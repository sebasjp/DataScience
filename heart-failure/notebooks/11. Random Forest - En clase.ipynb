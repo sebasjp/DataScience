{
 "cells": [
  {
   "cell_type": "code",
   "execution_count": 1,
   "metadata": {},
   "outputs": [],
   "source": [
    "## Tratamiento de datos\n",
    "# ==============================================================================\n",
    "\n",
    "import pandas as pd\n",
    "import numpy as np\n",
    "\n",
    "## Graficos\n",
    "# ==============================================================================\n",
    "\n",
    "import matplotlib.pyplot as plt\n",
    "\n",
    "# Preprocesado y modelado\n",
    "# ==============================================================================\n",
    "\n",
    "# from sklearn.compose import ColumnTransformer #Para tranformar columnas en onehotencoding\n",
    "# from sklearn.preprocessing import OneHotEncoder  #Para tranformar columnas en onehotencoding\n",
    "#from sklearn.ensemble import RandomForestRegressor \n",
    "from sklearn.ensemble import RandomForestClassifier #Para usar randomForest\n",
    "from sklearn.model_selection import GridSearchCV \n",
    "from sklearn.model_selection import cross_val_score #Con esto tuneamos los hiperparametros en la valid. cruzada\n",
    "from sklearn.model_selection import ParameterGrid #Con esto tuneamos con los grids\n",
    "import multiprocessing #para usar varios procesadores\n",
    "from sklearn.model_selection import RepeatedKFold #para validacion cruzada\n",
    "# from sklearn import tree\n",
    "\n",
    "# Evaluacion\n",
    "# ==============================================================================\n",
    "\n",
    "from utils import evaluate"
   ]
  },
  {
   "cell_type": "markdown",
   "metadata": {},
   "source": [
    "# Lectura bases de datos"
   ]
  },
  {
   "cell_type": "code",
   "execution_count": 6,
   "metadata": {},
   "outputs": [],
   "source": [
    "X_train = pd.read_parquet('../data/X_train.parquet')\n",
    "y_train = pd.read_parquet('../data/y_train.parquet')\n",
    "\n",
    "X_test  = pd.read_parquet('../data/X_test.parquet')\n",
    "y_test  = pd.read_parquet('../data/y_test.parquet')"
   ]
  },
  {
   "cell_type": "code",
   "execution_count": 7,
   "metadata": {},
   "outputs": [],
   "source": [
    "features_selected = ['serum_sodium', \n",
    "                     'platelets', \n",
    "                     'creatinine_phosphokinase', \n",
    "                     'age',\n",
    "                     'ejection_fraction',\n",
    "                     'serum_creatinine'\n",
    "                    ]\n",
    "\n",
    "X_train = X_train.loc[: , features_selected]\n",
    "X_test = X_test.loc[: , features_selected]"
   ]
  },
  {
   "cell_type": "code",
   "execution_count": 8,
   "metadata": {},
   "outputs": [],
   "source": [
    "y_train = y_train['DEATH_EVENT']\n",
    "y_test = y_test['DEATH_EVENT'] "
   ]
  },
  {
   "cell_type": "markdown",
   "metadata": {},
   "source": [
    "# Ajuste del modelo"
   ]
  },
  {
   "cell_type": "code",
   "execution_count": 5,
   "metadata": {},
   "outputs": [],
   "source": [
    "# X_train = X_train.drop(columns = ['time'])\n",
    "# X_test  = X_test.drop(columns = ['time'])"
   ]
  },
  {
   "cell_type": "code",
   "execution_count": null,
   "metadata": {},
   "outputs": [],
   "source": [
    "# 'DEATH_EVENT' variable que quiero predecir"
   ]
  },
  {
   "cell_type": "code",
   "execution_count": 6,
   "metadata": {},
   "outputs": [
    {
     "data": {
      "text/plain": [
       "RandomForestClassifier()"
      ]
     },
     "execution_count": 6,
     "metadata": {},
     "output_type": "execute_result"
    }
   ],
   "source": [
    "# Creación del modelo\n",
    "# ==============================================================================\n",
    "rfmodel =  RandomForestClassifier()\n",
    "    \n",
    "# Entrenamiento del modelo\n",
    "# ==============================================================================\n",
    "rfmodel.fit(X_train, y_train)"
   ]
  },
  {
   "cell_type": "code",
   "execution_count": null,
   "metadata": {},
   "outputs": [],
   "source": [
    "#La clase RandomForestRegressor del módulo sklearn.ensemble permite entrenar modelos random forest para problemas \n",
    "#de regresión y clasificacion: Los parámetros e hiperparámetros empleados por defecto son:\n",
    "        \n",
    "#* n_estimators=100, 150,  número de árboles incluidos en el modelo.\n",
    "#criterion='mse'\n",
    "#* max_depth=None profundidad máxima que pueden alcanzar los árboles.\n",
    "#* min_samples_split=2 número mínimo de observaciones que debe de tener un nodo para que pueda dividirse. \n",
    "#* min_samples_leaf=1  número mínimo de observaciones que debe de tener cada uno de los nodos hijos para que se produzca la división\n",
    "#min_weight_fraction_leaf=0.0\n",
    "#* max_features='auto' número de predictores considerados a en cada división\n",
    "#* max_leaf_nodes=None número máximo de nodos terminales que pueden tener los árboles.\n",
    "#min_impurity_decrease=0.0\n",
    "#min_impurity_split=None\n",
    "#bootstrap=True\n",
    "#* oob_score=False Si se calcula o no el out-of-bag R^2. Por defecto es False ya que aumenta el tiempo de entrenamiento.\n",
    "#* n_jobs=None número de cores empleados para el entrenamiento.\n",
    "#random_state=None semilla para que los resultados sean reproducibles. Tiene que ser un valor entero.\n",
    "#verbose=0\n",
    "#warm_start=False\n",
    "#ccp_alpha=0.0\n",
    "#max_samples=None "
   ]
  },
  {
   "cell_type": "code",
   "execution_count": 7,
   "metadata": {
    "scrolled": true
   },
   "outputs": [
    {
     "data": {
      "text/plain": [
       "{'recall': 0.35135135135135137,\n",
       " 'precision': 0.6190476190476191,\n",
       " 'f1': 0.4482758620689656,\n",
       " 'accuracy': 0.6444444444444445,\n",
       " 'auc': 0.7891381947985722}"
      ]
     },
     "execution_count": 7,
     "metadata": {},
     "output_type": "execute_result"
    },
    {
     "data": {
      "image/png": "[encoded data removed]",
      "text/plain": [
       "<Figure size 432x288 with 1 Axes>"
      ]
     },
     "metadata": {
      "needs_background": "light"
     },
     "output_type": "display_data"
    }
   ],
   "source": [
    "y_pred = rfmodel.predict(X_test)\n",
    "y_proba = rfmodel.predict_proba(X_test)[:,1]\n",
    "metrics = evaluate(y_test, y_pred, y_proba)\n",
    "metrics"
   ]
  },
  {
   "cell_type": "code",
   "execution_count": 8,
   "metadata": {
    "scrolled": true
   },
   "outputs": [
    {
     "data": {
      "text/plain": [
       "{'recall': 1.0, 'precision': 1.0, 'f1': 1.0, 'accuracy': 1.0, 'auc': 1.0}"
      ]
     },
     "execution_count": 8,
     "metadata": {},
     "output_type": "execute_result"
    },
    {
     "data": {
      "image/png": "[encoded data removed]",
      "text/plain": [
       "<Figure size 432x288 with 1 Axes>"
      ]
     },
     "metadata": {
      "needs_background": "light"
     },
     "output_type": "display_data"
    }
   ],
   "source": [
    "# con train\n",
    "y_pred = rfmodel.predict(X_train)\n",
    "y_proba = rfmodel.predict_proba(X_train)[:,1]\n",
    "\n",
    "evaluate(y_train, y_pred, y_proba)"
   ]
  },
  {
   "cell_type": "markdown",
   "metadata": {},
   "source": [
    "### El modelo se está sobreajustando, necesitamos tunear las variables"
   ]
  },
  {
   "cell_type": "markdown",
   "metadata": {},
   "source": [
    "## Tuneo basado en out of bag score"
   ]
  },
  {
   "cell_type": "code",
   "execution_count": 9,
   "metadata": {
    "scrolled": true
   },
   "outputs": [
    {
     "name": "stderr",
     "output_type": "stream",
     "text": [
      "C:\\Users\\SCASTROM\\Anaconda3\\lib\\site-packages\\sklearn\\ensemble\\_forest.py:540: UserWarning: Some inputs do not have OOB scores. This probably means too few trees were used to compute any reliable oob estimates.\n",
      "  warn(\"Some inputs do not have OOB scores. \"\n",
      "C:\\Users\\SCASTROM\\Anaconda3\\lib\\site-packages\\sklearn\\ensemble\\_forest.py:544: RuntimeWarning: invalid value encountered in true_divide\n",
      "  decision = (predictions[k] /\n",
      "C:\\Users\\SCASTROM\\Anaconda3\\lib\\site-packages\\sklearn\\ensemble\\_forest.py:540: UserWarning: Some inputs do not have OOB scores. This probably means too few trees were used to compute any reliable oob estimates.\n",
      "  warn(\"Some inputs do not have OOB scores. \"\n",
      "C:\\Users\\SCASTROM\\Anaconda3\\lib\\site-packages\\sklearn\\ensemble\\_forest.py:544: RuntimeWarning: invalid value encountered in true_divide\n",
      "  decision = (predictions[k] /\n",
      "C:\\Users\\SCASTROM\\Anaconda3\\lib\\site-packages\\sklearn\\ensemble\\_forest.py:540: UserWarning: Some inputs do not have OOB scores. This probably means too few trees were used to compute any reliable oob estimates.\n",
      "  warn(\"Some inputs do not have OOB scores. \"\n",
      "C:\\Users\\SCASTROM\\Anaconda3\\lib\\site-packages\\sklearn\\ensemble\\_forest.py:544: RuntimeWarning: invalid value encountered in true_divide\n",
      "  decision = (predictions[k] /\n",
      "C:\\Users\\SCASTROM\\Anaconda3\\lib\\site-packages\\sklearn\\ensemble\\_forest.py:540: UserWarning: Some inputs do not have OOB scores. This probably means too few trees were used to compute any reliable oob estimates.\n",
      "  warn(\"Some inputs do not have OOB scores. \"\n",
      "C:\\Users\\SCASTROM\\Anaconda3\\lib\\site-packages\\sklearn\\ensemble\\_forest.py:544: RuntimeWarning: invalid value encountered in true_divide\n",
      "  decision = (predictions[k] /\n"
     ]
    },
    {
     "name": "stdout",
     "output_type": "stream",
     "text": [
      "Valor óptimo de n_estimators: 61\n"
     ]
    },
    {
     "data": {
      "image/png": "[encoded data removed]",
      "text/plain": [
       "<Figure size 432x276.48 with 1 Axes>"
      ]
     },
     "metadata": {
      "needs_background": "light"
     },
     "output_type": "display_data"
    }
   ],
   "source": [
    "# Validación empleando el Out-of-Bag error\n",
    "# ==============================================================================\n",
    "train_scores = []\n",
    "oob_scores   = []\n",
    "\n",
    "# Valores evaluados\n",
    "estimator_range = range(1, 150, 5)\n",
    "\n",
    "# Bucle para entrenar un modelo con cada valor de n_estimators y extraer su error\n",
    "# de entrenamiento y de Out-of-Bag.\n",
    "for n_estimators in estimator_range:\n",
    "    modelo = RandomForestClassifier(\n",
    "                n_estimators = n_estimators,\n",
    "                #max_depth    = None,\n",
    "                #max_features = 'auto',\n",
    "                oob_score    = True,\n",
    "                n_jobs       = -1,\n",
    "                random_state = 123\n",
    "             )\n",
    "    modelo.fit(X_train, y_train)\n",
    "    train_scores.append(modelo.score(X_train, y_train))\n",
    "    oob_scores.append(modelo.oob_score_)\n",
    "    \n",
    "# Gráfico con la evolución de los errores\n",
    "fig, ax = plt.subplots(figsize=(6, 3.84))\n",
    "ax.plot(estimator_range, train_scores, label=\"train scores\")\n",
    "ax.plot(estimator_range, oob_scores, label=\"out-of-bag scores\")\n",
    "ax.plot(estimator_range[np.argmax(oob_scores)], max(oob_scores),\n",
    "        marker='o', color = \"red\", label=\"max score\")\n",
    "ax.set_ylabel(\"R^2\")\n",
    "ax.set_xlabel(\"n_estimators\")\n",
    "ax.set_title(\"Evolución del out-of-bag-error vs número árboles\")\n",
    "plt.legend();\n",
    "print(f\"Valor óptimo de n_estimators: {estimator_range[np.argmax(oob_scores)]}\")"
   ]
  },
  {
   "cell_type": "code",
   "execution_count": 13,
   "metadata": {
    "collapsed": true
   },
   "outputs": [
    {
     "name": "stdout",
     "output_type": "stream",
     "text": [
      "Modelo: {'criterion': 'gini', 'max_depth': None, 'max_features': 5, 'n_estimators': 100} ✓\n",
      "Modelo: {'criterion': 'gini', 'max_depth': None, 'max_features': 5, 'n_estimators': 120} ✓\n",
      "Modelo: {'criterion': 'gini', 'max_depth': None, 'max_features': 5, 'n_estimators': 150} ✓\n",
      "Modelo: {'criterion': 'gini', 'max_depth': None, 'max_features': 7, 'n_estimators': 100} ✓\n",
      "Modelo: {'criterion': 'gini', 'max_depth': None, 'max_features': 7, 'n_estimators': 120} ✓\n",
      "Modelo: {'criterion': 'gini', 'max_depth': None, 'max_features': 7, 'n_estimators': 150} ✓\n",
      "Modelo: {'criterion': 'gini', 'max_depth': None, 'max_features': 9, 'n_estimators': 100} ✓\n",
      "Modelo: {'criterion': 'gini', 'max_depth': None, 'max_features': 9, 'n_estimators': 120} ✓\n",
      "Modelo: {'criterion': 'gini', 'max_depth': None, 'max_features': 9, 'n_estimators': 150} ✓\n",
      "Modelo: {'criterion': 'gini', 'max_depth': 3, 'max_features': 5, 'n_estimators': 100} ✓\n",
      "Modelo: {'criterion': 'gini', 'max_depth': 3, 'max_features': 5, 'n_estimators': 120} ✓\n",
      "Modelo: {'criterion': 'gini', 'max_depth': 3, 'max_features': 5, 'n_estimators': 150} ✓\n",
      "Modelo: {'criterion': 'gini', 'max_depth': 3, 'max_features': 7, 'n_estimators': 100} ✓\n",
      "Modelo: {'criterion': 'gini', 'max_depth': 3, 'max_features': 7, 'n_estimators': 120} ✓\n",
      "Modelo: {'criterion': 'gini', 'max_depth': 3, 'max_features': 7, 'n_estimators': 150} ✓\n",
      "Modelo: {'criterion': 'gini', 'max_depth': 3, 'max_features': 9, 'n_estimators': 100} ✓\n",
      "Modelo: {'criterion': 'gini', 'max_depth': 3, 'max_features': 9, 'n_estimators': 120} ✓\n",
      "Modelo: {'criterion': 'gini', 'max_depth': 3, 'max_features': 9, 'n_estimators': 150} ✓\n",
      "Modelo: {'criterion': 'gini', 'max_depth': 4, 'max_features': 5, 'n_estimators': 100} ✓\n",
      "Modelo: {'criterion': 'gini', 'max_depth': 4, 'max_features': 5, 'n_estimators': 120} ✓\n",
      "Modelo: {'criterion': 'gini', 'max_depth': 4, 'max_features': 5, 'n_estimators': 150} ✓\n",
      "Modelo: {'criterion': 'gini', 'max_depth': 4, 'max_features': 7, 'n_estimators': 100} ✓\n",
      "Modelo: {'criterion': 'gini', 'max_depth': 4, 'max_features': 7, 'n_estimators': 120} ✓\n",
      "Modelo: {'criterion': 'gini', 'max_depth': 4, 'max_features': 7, 'n_estimators': 150} ✓\n",
      "Modelo: {'criterion': 'gini', 'max_depth': 4, 'max_features': 9, 'n_estimators': 100} ✓\n",
      "Modelo: {'criterion': 'gini', 'max_depth': 4, 'max_features': 9, 'n_estimators': 120} ✓\n",
      "Modelo: {'criterion': 'gini', 'max_depth': 4, 'max_features': 9, 'n_estimators': 150} ✓\n",
      "Modelo: {'criterion': 'gini', 'max_depth': 5, 'max_features': 5, 'n_estimators': 100} ✓\n",
      "Modelo: {'criterion': 'gini', 'max_depth': 5, 'max_features': 5, 'n_estimators': 120} ✓\n",
      "Modelo: {'criterion': 'gini', 'max_depth': 5, 'max_features': 5, 'n_estimators': 150} ✓\n",
      "Modelo: {'criterion': 'gini', 'max_depth': 5, 'max_features': 7, 'n_estimators': 100} ✓\n",
      "Modelo: {'criterion': 'gini', 'max_depth': 5, 'max_features': 7, 'n_estimators': 120} ✓\n",
      "Modelo: {'criterion': 'gini', 'max_depth': 5, 'max_features': 7, 'n_estimators': 150} ✓\n",
      "Modelo: {'criterion': 'gini', 'max_depth': 5, 'max_features': 9, 'n_estimators': 100} ✓\n",
      "Modelo: {'criterion': 'gini', 'max_depth': 5, 'max_features': 9, 'n_estimators': 120} ✓\n",
      "Modelo: {'criterion': 'gini', 'max_depth': 5, 'max_features': 9, 'n_estimators': 150} ✓\n",
      "Modelo: {'criterion': 'entropy', 'max_depth': None, 'max_features': 5, 'n_estimators': 100} ✓\n",
      "Modelo: {'criterion': 'entropy', 'max_depth': None, 'max_features': 5, 'n_estimators': 120} ✓\n",
      "Modelo: {'criterion': 'entropy', 'max_depth': None, 'max_features': 5, 'n_estimators': 150} ✓\n",
      "Modelo: {'criterion': 'entropy', 'max_depth': None, 'max_features': 7, 'n_estimators': 100} ✓\n",
      "Modelo: {'criterion': 'entropy', 'max_depth': None, 'max_features': 7, 'n_estimators': 120} ✓\n",
      "Modelo: {'criterion': 'entropy', 'max_depth': None, 'max_features': 7, 'n_estimators': 150} ✓\n",
      "Modelo: {'criterion': 'entropy', 'max_depth': None, 'max_features': 9, 'n_estimators': 100} ✓\n",
      "Modelo: {'criterion': 'entropy', 'max_depth': None, 'max_features': 9, 'n_estimators': 120} ✓\n",
      "Modelo: {'criterion': 'entropy', 'max_depth': None, 'max_features': 9, 'n_estimators': 150} ✓\n",
      "Modelo: {'criterion': 'entropy', 'max_depth': 3, 'max_features': 5, 'n_estimators': 100} ✓\n",
      "Modelo: {'criterion': 'entropy', 'max_depth': 3, 'max_features': 5, 'n_estimators': 120} ✓\n",
      "Modelo: {'criterion': 'entropy', 'max_depth': 3, 'max_features': 5, 'n_estimators': 150} ✓\n",
      "Modelo: {'criterion': 'entropy', 'max_depth': 3, 'max_features': 7, 'n_estimators': 100} ✓\n",
      "Modelo: {'criterion': 'entropy', 'max_depth': 3, 'max_features': 7, 'n_estimators': 120} ✓\n",
      "Modelo: {'criterion': 'entropy', 'max_depth': 3, 'max_features': 7, 'n_estimators': 150} ✓\n",
      "Modelo: {'criterion': 'entropy', 'max_depth': 3, 'max_features': 9, 'n_estimators': 100} ✓\n",
      "Modelo: {'criterion': 'entropy', 'max_depth': 3, 'max_features': 9, 'n_estimators': 120} ✓\n",
      "Modelo: {'criterion': 'entropy', 'max_depth': 3, 'max_features': 9, 'n_estimators': 150} ✓\n",
      "Modelo: {'criterion': 'entropy', 'max_depth': 4, 'max_features': 5, 'n_estimators': 100} ✓\n",
      "Modelo: {'criterion': 'entropy', 'max_depth': 4, 'max_features': 5, 'n_estimators': 120} ✓\n",
      "Modelo: {'criterion': 'entropy', 'max_depth': 4, 'max_features': 5, 'n_estimators': 150} ✓\n",
      "Modelo: {'criterion': 'entropy', 'max_depth': 4, 'max_features': 7, 'n_estimators': 100} ✓\n",
      "Modelo: {'criterion': 'entropy', 'max_depth': 4, 'max_features': 7, 'n_estimators': 120} ✓\n",
      "Modelo: {'criterion': 'entropy', 'max_depth': 4, 'max_features': 7, 'n_estimators': 150} ✓\n",
      "Modelo: {'criterion': 'entropy', 'max_depth': 4, 'max_features': 9, 'n_estimators': 100} ✓\n",
      "Modelo: {'criterion': 'entropy', 'max_depth': 4, 'max_features': 9, 'n_estimators': 120} ✓\n",
      "Modelo: {'criterion': 'entropy', 'max_depth': 4, 'max_features': 9, 'n_estimators': 150} ✓\n",
      "Modelo: {'criterion': 'entropy', 'max_depth': 5, 'max_features': 5, 'n_estimators': 100} ✓\n",
      "Modelo: {'criterion': 'entropy', 'max_depth': 5, 'max_features': 5, 'n_estimators': 120} ✓\n",
      "Modelo: {'criterion': 'entropy', 'max_depth': 5, 'max_features': 5, 'n_estimators': 150} ✓\n",
      "Modelo: {'criterion': 'entropy', 'max_depth': 5, 'max_features': 7, 'n_estimators': 100} ✓\n",
      "Modelo: {'criterion': 'entropy', 'max_depth': 5, 'max_features': 7, 'n_estimators': 120} ✓\n",
      "Modelo: {'criterion': 'entropy', 'max_depth': 5, 'max_features': 7, 'n_estimators': 150} ✓\n",
      "Modelo: {'criterion': 'entropy', 'max_depth': 5, 'max_features': 9, 'n_estimators': 100} ✓\n",
      "Modelo: {'criterion': 'entropy', 'max_depth': 5, 'max_features': 9, 'n_estimators': 120} ✓\n",
      "Modelo: {'criterion': 'entropy', 'max_depth': 5, 'max_features': 9, 'n_estimators': 150} ✓\n"
     ]
    },
    {
     "data": {
      "text/html": [
       "<div>\n",
       "<style scoped>\n",
       "    .dataframe tbody tr th:only-of-type {\n",
       "        vertical-align: middle;\n",
       "    }\n",
       "\n",
       "    .dataframe tbody tr th {\n",
       "        vertical-align: top;\n",
       "    }\n",
       "\n",
       "    .dataframe thead th {\n",
       "        text-align: right;\n",
       "    }\n",
       "</style>\n",
       "<table border=\"1\" class=\"dataframe\">\n",
       "  <thead>\n",
       "    <tr style=\"text-align: right;\">\n",
       "      <th></th>\n",
       "      <th>oob_accuracy</th>\n",
       "      <th>criterion</th>\n",
       "      <th>max_depth</th>\n",
       "      <th>max_features</th>\n",
       "      <th>n_estimators</th>\n",
       "    </tr>\n",
       "  </thead>\n",
       "  <tbody>\n",
       "    <tr>\n",
       "      <th>17</th>\n",
       "      <td>0.784689</td>\n",
       "      <td>gini</td>\n",
       "      <td>3.0</td>\n",
       "      <td>9</td>\n",
       "      <td>150</td>\n",
       "    </tr>\n",
       "    <tr>\n",
       "      <th>53</th>\n",
       "      <td>0.784689</td>\n",
       "      <td>entropy</td>\n",
       "      <td>3.0</td>\n",
       "      <td>9</td>\n",
       "      <td>150</td>\n",
       "    </tr>\n",
       "    <tr>\n",
       "      <th>16</th>\n",
       "      <td>0.779904</td>\n",
       "      <td>gini</td>\n",
       "      <td>3.0</td>\n",
       "      <td>9</td>\n",
       "      <td>120</td>\n",
       "    </tr>\n",
       "    <tr>\n",
       "      <th>51</th>\n",
       "      <td>0.779904</td>\n",
       "      <td>entropy</td>\n",
       "      <td>3.0</td>\n",
       "      <td>9</td>\n",
       "      <td>100</td>\n",
       "    </tr>\n",
       "  </tbody>\n",
       "</table>\n",
       "</div>"
      ],
      "text/plain": [
       "    oob_accuracy criterion  max_depth  max_features  n_estimators\n",
       "17      0.784689      gini        3.0             9           150\n",
       "53      0.784689   entropy        3.0             9           150\n",
       "16      0.779904      gini        3.0             9           120\n",
       "51      0.779904   entropy        3.0             9           100"
      ]
     },
     "execution_count": 13,
     "metadata": {},
     "output_type": "execute_result"
    }
   ],
   "source": [
    "# Grid de hiperparámetros evaluados\n",
    "# ==============================================================================\n",
    "param_grid = ParameterGrid(\n",
    "                {'n_estimators': [100, 120, 150],\n",
    "                 'max_features': [5, 7, 9],\n",
    "                 'max_depth'   : [None, 3, 4, 5],\n",
    "                 'criterion'   : ['gini', 'entropy']\n",
    "                }\n",
    "            )\n",
    "\n",
    "# Loop para ajustar un modelo con cada combinación de hiperparámetros\n",
    "# ==============================================================================\n",
    "resultados = {'params': [], 'oob_accuracy': []}\n",
    "\n",
    "for params in param_grid:\n",
    "    \n",
    "    modelo = RandomForestClassifier(\n",
    "                oob_score    = True,\n",
    "                n_jobs       = -1,\n",
    "                random_state = 123,\n",
    "                ** params\n",
    "             )\n",
    "    \n",
    "    modelo.fit(X_train, y_train)\n",
    "    \n",
    "    resultados['params'].append(params)\n",
    "    resultados['oob_accuracy'].append(modelo.oob_score_)\n",
    "    print(f\"Modelo: {params} \\u2713\")\n",
    "\n",
    "# Resultados\n",
    "# ==============================================================================\n",
    "resultados = pd.DataFrame(resultados)\n",
    "resultados = pd.concat([resultados, resultados['params'].apply(pd.Series)], axis=1)\n",
    "resultados = resultados.sort_values('oob_accuracy', ascending=False)\n",
    "resultados = resultados.drop(columns = 'params')\n",
    "resultados.head(4)"
   ]
  },
  {
   "cell_type": "markdown",
   "metadata": {},
   "source": [
    "## Validacion cruzada"
   ]
  },
  {
   "cell_type": "code",
   "execution_count": 9,
   "metadata": {
    "scrolled": true
   },
   "outputs": [
    {
     "data": {
      "text/html": [
       "<div>\n",
       "<style scoped>\n",
       "    .dataframe tbody tr th:only-of-type {\n",
       "        vertical-align: middle;\n",
       "    }\n",
       "\n",
       "    .dataframe tbody tr th {\n",
       "        vertical-align: top;\n",
       "    }\n",
       "\n",
       "    .dataframe thead th {\n",
       "        text-align: right;\n",
       "    }\n",
       "</style>\n",
       "<table border=\"1\" class=\"dataframe\">\n",
       "  <thead>\n",
       "    <tr style=\"text-align: right;\">\n",
       "      <th></th>\n",
       "      <th>param_criterion</th>\n",
       "      <th>param_max_depth</th>\n",
       "      <th>param_min_samples_leaf</th>\n",
       "      <th>param_min_samples_split</th>\n",
       "      <th>param_n_estimators</th>\n",
       "      <th>mean_test_score</th>\n",
       "      <th>std_test_score</th>\n",
       "      <th>mean_train_score</th>\n",
       "      <th>std_train_score</th>\n",
       "    </tr>\n",
       "  </thead>\n",
       "  <tbody>\n",
       "    <tr>\n",
       "      <th>268</th>\n",
       "      <td>gini</td>\n",
       "      <td>4</td>\n",
       "      <td>10</td>\n",
       "      <td>30</td>\n",
       "      <td>120</td>\n",
       "      <td>0.764111</td>\n",
       "      <td>0.059154</td>\n",
       "      <td>0.812209</td>\n",
       "      <td>0.016651</td>\n",
       "    </tr>\n",
       "    <tr>\n",
       "      <th>269</th>\n",
       "      <td>gini</td>\n",
       "      <td>4</td>\n",
       "      <td>10</td>\n",
       "      <td>30</td>\n",
       "      <td>150</td>\n",
       "      <td>0.764111</td>\n",
       "      <td>0.059789</td>\n",
       "      <td>0.811814</td>\n",
       "      <td>0.018379</td>\n",
       "    </tr>\n",
       "    <tr>\n",
       "      <th>643</th>\n",
       "      <td>entropy</td>\n",
       "      <td>4</td>\n",
       "      <td>10</td>\n",
       "      <td>25</td>\n",
       "      <td>120</td>\n",
       "      <td>0.764111</td>\n",
       "      <td>0.065345</td>\n",
       "      <td>0.824171</td>\n",
       "      <td>0.016933</td>\n",
       "    </tr>\n",
       "    <tr>\n",
       "      <th>645</th>\n",
       "      <td>entropy</td>\n",
       "      <td>4</td>\n",
       "      <td>10</td>\n",
       "      <td>30</td>\n",
       "      <td>100</td>\n",
       "      <td>0.764034</td>\n",
       "      <td>0.064885</td>\n",
       "      <td>0.813414</td>\n",
       "      <td>0.016444</td>\n",
       "    </tr>\n",
       "  </tbody>\n",
       "</table>\n",
       "</div>"
      ],
      "text/plain": [
       "    param_criterion param_max_depth param_min_samples_leaf  \\\n",
       "268            gini               4                     10   \n",
       "269            gini               4                     10   \n",
       "643         entropy               4                     10   \n",
       "645         entropy               4                     10   \n",
       "\n",
       "    param_min_samples_split param_n_estimators  mean_test_score  \\\n",
       "268                      30                120         0.764111   \n",
       "269                      30                150         0.764111   \n",
       "643                      25                120         0.764111   \n",
       "645                      30                100         0.764034   \n",
       "\n",
       "     std_test_score  mean_train_score  std_train_score  \n",
       "268        0.059154          0.812209         0.016651  \n",
       "269        0.059789          0.811814         0.018379  \n",
       "643        0.065345          0.824171         0.016933  \n",
       "645        0.064885          0.813414         0.016444  "
      ]
     },
     "execution_count": 9,
     "metadata": {},
     "output_type": "execute_result"
    }
   ],
   "source": [
    "# Grid de hiperparámetros evaluados\n",
    "# ==============================================================================\n",
    "param_grid = {'n_estimators': [100, 120, 150],\n",
    "             # 'max_features': [5, 7, 9],\n",
    "              'min_samples_leaf': np.arange(10, 41, 5),\n",
    "              \"min_samples_split\" : np.arange(5, 30 + 1, 5),\n",
    "              'max_depth'   : [2, 3, 4],\n",
    "              'criterion'   : ['gini', 'entropy']\n",
    "             }\n",
    "\n",
    "# Búsqueda por grid search con validación cruzada\n",
    "# ==============================================================================\n",
    "grid = GridSearchCV(\n",
    "        estimator  = RandomForestClassifier(random_state = 123),\n",
    "        param_grid = param_grid,\n",
    "        scoring    = 'accuracy',\n",
    "        n_jobs     = multiprocessing.cpu_count() - 1,\n",
    "        cv         = RepeatedKFold(n_splits=5, n_repeats=3, random_state=123), \n",
    "        refit      = True,\n",
    "        verbose    = 0,\n",
    "        return_train_score = True\n",
    "       )\n",
    "\n",
    "grid.fit(X = X_train, y = y_train)\n",
    "\n",
    "# Resultados\n",
    "# ==============================================================================\n",
    "resultados = pd.DataFrame(grid.cv_results_)\n",
    "resultados.filter(regex = '(param*|mean_t|std_t)') \\\n",
    "    .drop(columns = 'params') \\\n",
    "    .sort_values('mean_test_score', ascending = False) \\\n",
    "    .head(4)"
   ]
  },
  {
   "cell_type": "code",
   "execution_count": 10,
   "metadata": {},
   "outputs": [
    {
     "name": "stdout",
     "output_type": "stream",
     "text": [
      "----------------------------------------\n",
      "Mejores hiperparámetros encontrados (cv)\n",
      "----------------------------------------\n",
      "{'criterion': 'gini', 'max_depth': 4, 'min_samples_leaf': 10, 'min_samples_split': 30, 'n_estimators': 120} : 0.7641114982578399 accuracy\n"
     ]
    }
   ],
   "source": [
    "# Mejores hiperparámetros por validación cruzada\n",
    "# ==============================================================================\n",
    "print(\"----------------------------------------\")\n",
    "print(\"Mejores hiperparámetros encontrados (cv)\")\n",
    "print(\"----------------------------------------\")\n",
    "print(grid.best_params_, \":\", grid.best_score_, grid.scoring)"
   ]
  },
  {
   "cell_type": "code",
   "execution_count": 11,
   "metadata": {},
   "outputs": [],
   "source": [
    "modelo_final = grid.best_estimator_"
   ]
  },
  {
   "cell_type": "code",
   "execution_count": 12,
   "metadata": {
    "scrolled": true
   },
   "outputs": [
    {
     "name": "stdout",
     "output_type": "stream",
     "text": [
      "RandomForestClassifier(max_depth=4, min_samples_leaf=10, min_samples_split=30,\n",
      "                       n_estimators=120, random_state=123)\n"
     ]
    }
   ],
   "source": [
    "print(modelo_final)"
   ]
  },
  {
   "cell_type": "code",
   "execution_count": 13,
   "metadata": {
    "scrolled": true
   },
   "outputs": [
    {
     "data": {
      "image/png": "[encoded data removed]",
      "text/plain": [
       "<Figure size 432x288 with 1 Axes>"
      ]
     },
     "metadata": {
      "needs_background": "light"
     },
     "output_type": "display_data"
    },
    {
     "data": {
      "text/plain": [
       "{'recall': 0.2972972972972973,\n",
       " 'precision': 0.6470588235294118,\n",
       " 'f1': 0.40740740740740744,\n",
       " 'accuracy': 0.6444444444444445,\n",
       " 'auc': 0.791942886282509}"
      ]
     },
     "execution_count": 13,
     "metadata": {},
     "output_type": "execute_result"
    }
   ],
   "source": [
    "y_pred = modelo_final.predict(X_test)\n",
    "y_proba = modelo_final.predict_proba(X_test)[:,1]\n",
    "metrics = evaluate(y_test, y_pred, y_proba)\n",
    "metrics"
   ]
  },
  {
   "cell_type": "code",
   "execution_count": 14,
   "metadata": {},
   "outputs": [
    {
     "data": {
      "image/png": "[encoded data removed]",
      "text/plain": [
       "<Figure size 432x288 with 1 Axes>"
      ]
     },
     "metadata": {
      "needs_background": "light"
     },
     "output_type": "display_data"
    },
    {
     "data": {
      "text/plain": [
       "{'recall': 0.4576271186440678,\n",
       " 'precision': 0.7941176470588235,\n",
       " 'f1': 0.5806451612903226,\n",
       " 'accuracy': 0.8133971291866029,\n",
       " 'auc': 0.8825988700564972}"
      ]
     },
     "execution_count": 14,
     "metadata": {},
     "output_type": "execute_result"
    }
   ],
   "source": [
    "# con train\n",
    "y_pred = modelo_final.predict(X_train)\n",
    "y_proba = modelo_final.predict_proba(X_train)[:,1]\n",
    "evaluate(y_train, y_pred, y_proba)"
   ]
  },
  {
   "cell_type": "code",
   "execution_count": 15,
   "metadata": {},
   "outputs": [
    {
     "data": {
      "text/plain": [
       "['../models/random_forest.pkl']"
      ]
     },
     "execution_count": 15,
     "metadata": {},
     "output_type": "execute_result"
    }
   ],
   "source": [
    "from joblib import dump\n",
    "dump(modelo_final, '../models/random_forest.pkl')"
   ]
  },
  {
   "cell_type": "code",
   "execution_count": null,
   "metadata": {},
   "outputs": [],
   "source": []
  }
 ],
 "metadata": {
  "kernelspec": {
   "display_name": "Python 3",
   "language": "python",
   "name": "python3"
  },
  "language_info": {
   "codemirror_mode": {
    "name": "ipython",
    "version": 3
   },
   "file_extension": ".py",
   "mimetype": "text/x-python",
   "name": "python",
   "nbconvert_exporter": "python",
   "pygments_lexer": "ipython3",
   "version": "3.8.5"
  }
 },
 "nbformat": 4,
 "nbformat_minor": 4
}
