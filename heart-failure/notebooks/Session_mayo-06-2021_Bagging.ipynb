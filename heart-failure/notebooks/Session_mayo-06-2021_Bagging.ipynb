{
 "cells": [
  {
   "cell_type": "code",
   "execution_count": 2,
   "metadata": {},
   "outputs": [],
   "source": [
    "import pandas as pd\n",
    "import numpy as np\n",
    "\n",
    "# Logistic regression\n",
    "from sklearn.linear_model import LogisticRegression\n",
    "\n",
    "#Bagging\n",
    "from sklearn.ensemble import BaggingClassifier\n",
    "from sklearn.tree import DecisionTreeClassifier\n",
    "from sklearn import model_selection\n",
    "\n",
    "from sklearn.model_selection import GridSearchCV\n",
    "\n",
    "import matplotlib.pyplot as plt\n",
    "\n",
    "from utils import evaluate"
   ]
  },
  {
   "cell_type": "markdown",
   "metadata": {},
   "source": [
    "## Modelado"
   ]
  },
  {
   "cell_type": "code",
   "execution_count": 3,
   "metadata": {},
   "outputs": [],
   "source": [
    "X_train = pd.read_parquet('../data/X_train.parquet')\n",
    "y_train = pd.read_parquet('../data/y_train.parquet')\n",
    "\n",
    "X_test  = pd.read_parquet('../data/X_test.parquet')\n",
    "y_test  = pd.read_parquet('../data/y_test.parquet')\n",
    "\n",
    "y_train = y_train['DEATH_EVENT']\n",
    "y_test  = y_test['DEATH_EVENT']"
   ]
  },
  {
   "cell_type": "code",
   "execution_count": 4,
   "metadata": {},
   "outputs": [],
   "source": [
    "features_selected = ['serum_sodium', \n",
    "                     'platelets', \n",
    "                     'creatinine_phosphokinase', \n",
    "                     'age',\n",
    "                     'ejection_fraction',\n",
    "                     'serum_creatinine'\n",
    "                    ]\n",
    "\n",
    "X_train = X_train.loc[: , features_selected]\n",
    "X_test = X_test.loc[: , features_selected]"
   ]
  },
  {
   "cell_type": "code",
   "execution_count": 20,
   "metadata": {},
   "outputs": [],
   "source": [
    "# X_train = X_train.drop(columns = ['time'])\n",
    "# X_test  = X_test.drop(columns = ['time'])"
   ]
  },
  {
   "cell_type": "markdown",
   "metadata": {},
   "source": [
    "## Tuneo Bagging"
   ]
  },
  {
   "cell_type": "code",
   "execution_count": 9,
   "metadata": {},
   "outputs": [],
   "source": [
    "seed = 8\n",
    "tree = DecisionTreeClassifier()\n",
    "num_trees = 500\n",
    "\n",
    "model_bagg = BaggingClassifier(base_estimator = tree,\n",
    "                              n_estimators = num_trees,\n",
    "                              random_state = seed)"
   ]
  },
  {
   "cell_type": "code",
   "execution_count": 10,
   "metadata": {
    "scrolled": true
   },
   "outputs": [
    {
     "data": {
      "text/plain": [
       "GridSearchCV(cv=5,\n",
       "             estimator=BaggingClassifier(base_estimator=DecisionTreeClassifier(),\n",
       "                                         n_estimators=500, random_state=8),\n",
       "             n_jobs=-1,\n",
       "             param_grid={'base_estimator__max_depth': array([2, 3, 4, 5, 6]),\n",
       "                         'base_estimator__min_samples_leaf': array([10, 15, 20, 25, 30, 35, 40])},\n",
       "             refit='precision',\n",
       "             scoring={'f1': 'f1', 'precision': 'precision', 'recall': 'recall'})"
      ]
     },
     "execution_count": 10,
     "metadata": {},
     "output_type": "execute_result"
    }
   ],
   "source": [
    "model   = model_bagg\n",
    "scoring = {'recall': 'recall',\n",
    "           'precision': 'precision',\n",
    "           'f1': 'f1'}\n",
    "\n",
    "grid = {'base_estimator__max_depth': np.arange(2, 7, 1),\n",
    "        'base_estimator__min_samples_leaf': np.arange(10, 41, 5)}\n",
    "\n",
    "grid_search = GridSearchCV(estimator = model, \n",
    "                           param_grid = grid, \n",
    "                           n_jobs = -1,\n",
    "                           cv = 5,\n",
    "                           scoring = scoring,\n",
    "                           refit = 'precision'\n",
    "                           )\n",
    "\n",
    "grid_search.fit(X_train, y_train)"
   ]
  },
  {
   "cell_type": "code",
   "execution_count": 11,
   "metadata": {},
   "outputs": [
    {
     "name": "stdout",
     "output_type": "stream",
     "text": [
      "Best: 0.850000 using {'base_estimator__max_depth': 2, 'base_estimator__min_samples_leaf': 15}\n"
     ]
    }
   ],
   "source": [
    "print(\"Best: %f using %s\" % (grid_search.best_score_, grid_search.best_params_))"
   ]
  },
  {
   "cell_type": "code",
   "execution_count": null,
   "metadata": {},
   "outputs": [],
   "source": []
  },
  {
   "cell_type": "code",
   "execution_count": 12,
   "metadata": {},
   "outputs": [],
   "source": [
    "seed = 8\n",
    "tree = DecisionTreeClassifier(max_depth = 2,\n",
    "                              min_samples_leaf = 15)\n",
    "num_trees = 500\n",
    "\n",
    "bag = BaggingClassifier(base_estimator = tree,\n",
    "                        n_estimators = num_trees,\n",
    "                        random_state = seed)"
   ]
  },
  {
   "cell_type": "code",
   "execution_count": 13,
   "metadata": {
    "scrolled": false
   },
   "outputs": [
    {
     "data": {
      "image/png": "[encoded data removed]",
      "text/plain": [
       "<Figure size 432x288 with 1 Axes>"
      ]
     },
     "metadata": {
      "needs_background": "light"
     },
     "output_type": "display_data"
    },
    {
     "data": {
      "text/plain": [
       "{'recall': 0.2972972972972973,\n",
       " 'precision': 0.6470588235294118,\n",
       " 'f1': 0.40740740740740744,\n",
       " 'accuracy': 0.6444444444444445,\n",
       " 'auc': 0.7802141764405917}"
      ]
     },
     "execution_count": 13,
     "metadata": {},
     "output_type": "execute_result"
    }
   ],
   "source": [
    "bag.fit(X_train, y_train)\n",
    "\n",
    "y_pred  = bag.predict(X_test)\n",
    "y_proba = bag.predict_proba(X_test)[:,1]\n",
    "evaluate(y_test, y_pred, y_proba)"
   ]
  },
  {
   "cell_type": "code",
   "execution_count": 14,
   "metadata": {},
   "outputs": [
    {
     "data": {
      "image/png": "[encoded data removed]",
      "text/plain": [
       "<Figure size 432x288 with 1 Axes>"
      ]
     },
     "metadata": {
      "needs_background": "light"
     },
     "output_type": "display_data"
    },
    {
     "data": {
      "text/plain": [
       "{'recall': 0.4067796610169492,\n",
       " 'precision': 0.7741935483870968,\n",
       " 'f1': 0.5333333333333334,\n",
       " 'accuracy': 0.7990430622009569,\n",
       " 'auc': 0.8411299435028249}"
      ]
     },
     "execution_count": 14,
     "metadata": {},
     "output_type": "execute_result"
    }
   ],
   "source": [
    "y_pred  = bag.predict(X_train)\n",
    "y_proba = bag.predict_proba(X_train)[:,1]\n",
    "evaluate(y_train, y_pred, y_proba)"
   ]
  },
  {
   "cell_type": "code",
   "execution_count": 15,
   "metadata": {},
   "outputs": [
    {
     "data": {
      "text/plain": [
       "['../models/bagging_tree.pkl']"
      ]
     },
     "execution_count": 15,
     "metadata": {},
     "output_type": "execute_result"
    }
   ],
   "source": [
    "# Guardando el modelo\n",
    "import joblib\n",
    "joblib.dump(bag, '../models/bagging_tree.pkl')"
   ]
  },
  {
   "cell_type": "code",
   "execution_count": null,
   "metadata": {},
   "outputs": [],
   "source": []
  }
 ],
 "metadata": {
  "kernelspec": {
   "display_name": "Python 3",
   "language": "python",
   "name": "python3"
  },
  "language_info": {
   "codemirror_mode": {
    "name": "ipython",
    "version": 3
   },
   "file_extension": ".py",
   "mimetype": "text/x-python",
   "name": "python",
   "nbconvert_exporter": "python",
   "pygments_lexer": "ipython3",
   "version": "3.8.5"
  }
 },
 "nbformat": 4,
 "nbformat_minor": 4
}
