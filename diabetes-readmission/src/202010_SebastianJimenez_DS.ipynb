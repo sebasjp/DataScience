{
 "cells": [
  {
   "cell_type": "markdown",
   "metadata": {},
   "source": [
    "# Diabetes 130-US hospitals for years 1999-2008\n",
    "\n",
    "Este dataset representa 10 años (1999-2008) de atención clínica en 130 hospitales y redes integradas de prestación de servicios de EE. UU. Incluye más de 50 funciones que representan los resultados del paciente y del hospital. Se extrajo información de la base de datos para los ingresos que cumplieron con los siguientes criterios.\n",
    "\n",
    "(1) Es un ingreso hospitalario (una admisión hospitalaria).\n",
    "\n",
    "(2) Es un ingreso diabético, es decir, durante el cual se ingresó al sistema cualquier tipo de diabetes como diagnóstico.\n",
    "\n",
    "(3) La duración de la estancia fue de al menos 1 día y como máximo 14 días.\n",
    "\n",
    "(4) Se realizaron pruebas de laboratorio durante la estancia.\n",
    "\n",
    "(5) Se administraron medicamentos durante la estancia.\n",
    "\n",
    " \n",
    "\n",
    "Los datos contienen atributos tales como número de paciente, raza, sexo, edad, tipo de admisión, tiempo en el hospital, especialidad médica del médico que lo admite, número de pruebas de laboratorio realizadas, resultado de la prueba de HbA1c, diagnóstico, cantidad de medicación, medicamentos para diabéticos, cantidad de pacientes ambulatorios , visitas hospitalarias y urgentes en el año anterior a la hospitalización, etc. Para cada registro existe uno de los siguientes resultados:\n",
    "\n",
    "1. No readmisión;\n",
    "\n",
    "2. Readmisión en menos de 30 días (esta situación no es buena, porque existe la posibilidad de que el tratamiento aplicado no fue apropiado);\n",
    "\n",
    "3. Readmisión después de 30 días (esta situación tampoco es buena, sin embargo, la razón podría estar relacionada con el estado del paciente)."
   ]
  },
  {
   "cell_type": "markdown",
   "metadata": {},
   "source": [
    "### Abordaje propuesto\n",
    "\n",
    "En este caso propongo abordar este problema desde un sentido supervisado, con el fin de clasificar el resultado de un paciente. \n",
    "\n",
    "De acuerdo con lo que leí en el artículo: *Impact of HbA1c Measurement on Hospital Readmission Rates:\n",
    "Analysis of 70,000 Clinical Database Patient Records* se me ocurre cuatro maneras de construir la variable de respuesta y la población objetivo para el análisis, **las cuales me gustaria discutirlas**:\n",
    "\n",
    "(1). Predecir la readmisión temprana. En este caso la variable de respuesta sería: Y = 1, si readmisión en menos de 30 días, Y = 0 en otro caso.\n",
    "\n",
    "(2). Predecir la readmisión temprana, sin tener en cuenta la población de readmisión después de 30 días, es decir: Y = 1, si readmisión en menos de 30 días, Y = 0 no readmisión.\n",
    "\n",
    "(3). Predecir la readmisión, es decir que: Y = 1, sí readmisión, Y = 0 no readmisión.\n",
    "\n",
    "(4). Ajustar un modelo multiclase, que permita predecir el resultado en general del paciente.\n",
    "\n",
    "*Ahora bien, decido abordarlo desde el enfoque del punto (1), con el fin de predecir si el paciente será readmitido de manera temprana o no, y asi identificar los patrones de aquellos que probablemente el tratamiento no funcionó.*"
   ]
  },
  {
   "cell_type": "markdown",
   "metadata": {},
   "source": [
    "###  Librerias necesarias"
   ]
  },
  {
   "cell_type": "code",
   "execution_count": 1,
   "metadata": {},
   "outputs": [
    {
     "name": "stderr",
     "output_type": "stream",
     "text": [
      "D:\\Documentos\\Python\\Anaconda3\\lib\\site-packages\\statsmodels\\tools\\_testing.py:19: FutureWarning: pandas.util.testing is deprecated. Use the functions in the public API at pandas.testing instead.\n",
      "  import pandas.util.testing as tm\n"
     ]
    }
   ],
   "source": [
    "import pandas as pd\n",
    "pd.options.display.max_columns = None\n",
    "import numpy as np\n",
    "\n",
    "from pandas_profiling import ProfileReport   # Reporte descriptivo del dataset\n",
    "import seaborn as sns                        # libreria para graficos \n",
    "import matplotlib.pyplot as plt              # libreria para graficos\n",
    "\n",
    "from sklearn import tree, metrics\n",
    "from sklearn.model_selection import train_test_split\n",
    "from sklearn.model_selection import RandomizedSearchCV\n",
    "from sklearn.metrics import roc_auc_score\n",
    "\n",
    "from sklearn.ensemble import RandomForestClassifier\n",
    "import xgboost as xgb\n",
    "\n",
    "import shap\n",
    "\n",
    "from datetime import datetime\n",
    "import warnings\n",
    "warnings.filterwarnings('ignore')"
   ]
  },
  {
   "cell_type": "markdown",
   "metadata": {},
   "source": [
    "### Lectura del dataset"
   ]
  },
  {
   "cell_type": "code",
   "execution_count": 2,
   "metadata": {},
   "outputs": [],
   "source": [
    "df = pd.read_csv('../data/diabetic_data.csv')"
   ]
  },
  {
   "cell_type": "code",
   "execution_count": 3,
   "metadata": {},
   "outputs": [
    {
     "name": "stdout",
     "output_type": "stream",
     "text": [
      "(101766, 50)\n"
     ]
    },
    {
     "data": {
      "text/html": [
       "<div>\n",
       "<style scoped>\n",
       "    .dataframe tbody tr th:only-of-type {\n",
       "        vertical-align: middle;\n",
       "    }\n",
       "\n",
       "    .dataframe tbody tr th {\n",
       "        vertical-align: top;\n",
       "    }\n",
       "\n",
       "    .dataframe thead th {\n",
       "        text-align: right;\n",
       "    }\n",
       "</style>\n",
       "<table border=\"1\" class=\"dataframe\">\n",
       "  <thead>\n",
       "    <tr style=\"text-align: right;\">\n",
       "      <th></th>\n",
       "      <th>encounter_id</th>\n",
       "      <th>patient_nbr</th>\n",
       "      <th>race</th>\n",
       "      <th>gender</th>\n",
       "      <th>age</th>\n",
       "      <th>weight</th>\n",
       "      <th>admission_type_id</th>\n",
       "      <th>discharge_disposition_id</th>\n",
       "      <th>admission_source_id</th>\n",
       "      <th>time_in_hospital</th>\n",
       "      <th>payer_code</th>\n",
       "      <th>medical_specialty</th>\n",
       "      <th>num_lab_procedures</th>\n",
       "      <th>num_procedures</th>\n",
       "      <th>num_medications</th>\n",
       "      <th>number_outpatient</th>\n",
       "      <th>number_emergency</th>\n",
       "      <th>number_inpatient</th>\n",
       "      <th>diag_1</th>\n",
       "      <th>diag_2</th>\n",
       "      <th>diag_3</th>\n",
       "      <th>number_diagnoses</th>\n",
       "      <th>max_glu_serum</th>\n",
       "      <th>A1Cresult</th>\n",
       "      <th>metformin</th>\n",
       "      <th>repaglinide</th>\n",
       "      <th>nateglinide</th>\n",
       "      <th>chlorpropamide</th>\n",
       "      <th>glimepiride</th>\n",
       "      <th>acetohexamide</th>\n",
       "      <th>glipizide</th>\n",
       "      <th>glyburide</th>\n",
       "      <th>tolbutamide</th>\n",
       "      <th>pioglitazone</th>\n",
       "      <th>rosiglitazone</th>\n",
       "      <th>acarbose</th>\n",
       "      <th>miglitol</th>\n",
       "      <th>troglitazone</th>\n",
       "      <th>tolazamide</th>\n",
       "      <th>examide</th>\n",
       "      <th>citoglipton</th>\n",
       "      <th>insulin</th>\n",
       "      <th>glyburide-metformin</th>\n",
       "      <th>glipizide-metformin</th>\n",
       "      <th>glimepiride-pioglitazone</th>\n",
       "      <th>metformin-rosiglitazone</th>\n",
       "      <th>metformin-pioglitazone</th>\n",
       "      <th>change</th>\n",
       "      <th>diabetesMed</th>\n",
       "      <th>readmitted</th>\n",
       "    </tr>\n",
       "  </thead>\n",
       "  <tbody>\n",
       "    <tr>\n",
       "      <th>0</th>\n",
       "      <td>2278392</td>\n",
       "      <td>8222157</td>\n",
       "      <td>Caucasian</td>\n",
       "      <td>Female</td>\n",
       "      <td>[0-10)</td>\n",
       "      <td>?</td>\n",
       "      <td>6</td>\n",
       "      <td>25</td>\n",
       "      <td>1</td>\n",
       "      <td>1</td>\n",
       "      <td>?</td>\n",
       "      <td>Pediatrics-Endocrinology</td>\n",
       "      <td>41</td>\n",
       "      <td>0</td>\n",
       "      <td>1</td>\n",
       "      <td>0</td>\n",
       "      <td>0</td>\n",
       "      <td>0</td>\n",
       "      <td>250.83</td>\n",
       "      <td>?</td>\n",
       "      <td>?</td>\n",
       "      <td>1</td>\n",
       "      <td>None</td>\n",
       "      <td>None</td>\n",
       "      <td>No</td>\n",
       "      <td>No</td>\n",
       "      <td>No</td>\n",
       "      <td>No</td>\n",
       "      <td>No</td>\n",
       "      <td>No</td>\n",
       "      <td>No</td>\n",
       "      <td>No</td>\n",
       "      <td>No</td>\n",
       "      <td>No</td>\n",
       "      <td>No</td>\n",
       "      <td>No</td>\n",
       "      <td>No</td>\n",
       "      <td>No</td>\n",
       "      <td>No</td>\n",
       "      <td>No</td>\n",
       "      <td>No</td>\n",
       "      <td>No</td>\n",
       "      <td>No</td>\n",
       "      <td>No</td>\n",
       "      <td>No</td>\n",
       "      <td>No</td>\n",
       "      <td>No</td>\n",
       "      <td>No</td>\n",
       "      <td>No</td>\n",
       "      <td>NO</td>\n",
       "    </tr>\n",
       "    <tr>\n",
       "      <th>1</th>\n",
       "      <td>149190</td>\n",
       "      <td>55629189</td>\n",
       "      <td>Caucasian</td>\n",
       "      <td>Female</td>\n",
       "      <td>[10-20)</td>\n",
       "      <td>?</td>\n",
       "      <td>1</td>\n",
       "      <td>1</td>\n",
       "      <td>7</td>\n",
       "      <td>3</td>\n",
       "      <td>?</td>\n",
       "      <td>?</td>\n",
       "      <td>59</td>\n",
       "      <td>0</td>\n",
       "      <td>18</td>\n",
       "      <td>0</td>\n",
       "      <td>0</td>\n",
       "      <td>0</td>\n",
       "      <td>276</td>\n",
       "      <td>250.01</td>\n",
       "      <td>255</td>\n",
       "      <td>9</td>\n",
       "      <td>None</td>\n",
       "      <td>None</td>\n",
       "      <td>No</td>\n",
       "      <td>No</td>\n",
       "      <td>No</td>\n",
       "      <td>No</td>\n",
       "      <td>No</td>\n",
       "      <td>No</td>\n",
       "      <td>No</td>\n",
       "      <td>No</td>\n",
       "      <td>No</td>\n",
       "      <td>No</td>\n",
       "      <td>No</td>\n",
       "      <td>No</td>\n",
       "      <td>No</td>\n",
       "      <td>No</td>\n",
       "      <td>No</td>\n",
       "      <td>No</td>\n",
       "      <td>No</td>\n",
       "      <td>Up</td>\n",
       "      <td>No</td>\n",
       "      <td>No</td>\n",
       "      <td>No</td>\n",
       "      <td>No</td>\n",
       "      <td>No</td>\n",
       "      <td>Ch</td>\n",
       "      <td>Yes</td>\n",
       "      <td>&gt;30</td>\n",
       "    </tr>\n",
       "    <tr>\n",
       "      <th>2</th>\n",
       "      <td>64410</td>\n",
       "      <td>86047875</td>\n",
       "      <td>AfricanAmerican</td>\n",
       "      <td>Female</td>\n",
       "      <td>[20-30)</td>\n",
       "      <td>?</td>\n",
       "      <td>1</td>\n",
       "      <td>1</td>\n",
       "      <td>7</td>\n",
       "      <td>2</td>\n",
       "      <td>?</td>\n",
       "      <td>?</td>\n",
       "      <td>11</td>\n",
       "      <td>5</td>\n",
       "      <td>13</td>\n",
       "      <td>2</td>\n",
       "      <td>0</td>\n",
       "      <td>1</td>\n",
       "      <td>648</td>\n",
       "      <td>250</td>\n",
       "      <td>V27</td>\n",
       "      <td>6</td>\n",
       "      <td>None</td>\n",
       "      <td>None</td>\n",
       "      <td>No</td>\n",
       "      <td>No</td>\n",
       "      <td>No</td>\n",
       "      <td>No</td>\n",
       "      <td>No</td>\n",
       "      <td>No</td>\n",
       "      <td>Steady</td>\n",
       "      <td>No</td>\n",
       "      <td>No</td>\n",
       "      <td>No</td>\n",
       "      <td>No</td>\n",
       "      <td>No</td>\n",
       "      <td>No</td>\n",
       "      <td>No</td>\n",
       "      <td>No</td>\n",
       "      <td>No</td>\n",
       "      <td>No</td>\n",
       "      <td>No</td>\n",
       "      <td>No</td>\n",
       "      <td>No</td>\n",
       "      <td>No</td>\n",
       "      <td>No</td>\n",
       "      <td>No</td>\n",
       "      <td>No</td>\n",
       "      <td>Yes</td>\n",
       "      <td>NO</td>\n",
       "    </tr>\n",
       "    <tr>\n",
       "      <th>3</th>\n",
       "      <td>500364</td>\n",
       "      <td>82442376</td>\n",
       "      <td>Caucasian</td>\n",
       "      <td>Male</td>\n",
       "      <td>[30-40)</td>\n",
       "      <td>?</td>\n",
       "      <td>1</td>\n",
       "      <td>1</td>\n",
       "      <td>7</td>\n",
       "      <td>2</td>\n",
       "      <td>?</td>\n",
       "      <td>?</td>\n",
       "      <td>44</td>\n",
       "      <td>1</td>\n",
       "      <td>16</td>\n",
       "      <td>0</td>\n",
       "      <td>0</td>\n",
       "      <td>0</td>\n",
       "      <td>8</td>\n",
       "      <td>250.43</td>\n",
       "      <td>403</td>\n",
       "      <td>7</td>\n",
       "      <td>None</td>\n",
       "      <td>None</td>\n",
       "      <td>No</td>\n",
       "      <td>No</td>\n",
       "      <td>No</td>\n",
       "      <td>No</td>\n",
       "      <td>No</td>\n",
       "      <td>No</td>\n",
       "      <td>No</td>\n",
       "      <td>No</td>\n",
       "      <td>No</td>\n",
       "      <td>No</td>\n",
       "      <td>No</td>\n",
       "      <td>No</td>\n",
       "      <td>No</td>\n",
       "      <td>No</td>\n",
       "      <td>No</td>\n",
       "      <td>No</td>\n",
       "      <td>No</td>\n",
       "      <td>Up</td>\n",
       "      <td>No</td>\n",
       "      <td>No</td>\n",
       "      <td>No</td>\n",
       "      <td>No</td>\n",
       "      <td>No</td>\n",
       "      <td>Ch</td>\n",
       "      <td>Yes</td>\n",
       "      <td>NO</td>\n",
       "    </tr>\n",
       "    <tr>\n",
       "      <th>4</th>\n",
       "      <td>16680</td>\n",
       "      <td>42519267</td>\n",
       "      <td>Caucasian</td>\n",
       "      <td>Male</td>\n",
       "      <td>[40-50)</td>\n",
       "      <td>?</td>\n",
       "      <td>1</td>\n",
       "      <td>1</td>\n",
       "      <td>7</td>\n",
       "      <td>1</td>\n",
       "      <td>?</td>\n",
       "      <td>?</td>\n",
       "      <td>51</td>\n",
       "      <td>0</td>\n",
       "      <td>8</td>\n",
       "      <td>0</td>\n",
       "      <td>0</td>\n",
       "      <td>0</td>\n",
       "      <td>197</td>\n",
       "      <td>157</td>\n",
       "      <td>250</td>\n",
       "      <td>5</td>\n",
       "      <td>None</td>\n",
       "      <td>None</td>\n",
       "      <td>No</td>\n",
       "      <td>No</td>\n",
       "      <td>No</td>\n",
       "      <td>No</td>\n",
       "      <td>No</td>\n",
       "      <td>No</td>\n",
       "      <td>Steady</td>\n",
       "      <td>No</td>\n",
       "      <td>No</td>\n",
       "      <td>No</td>\n",
       "      <td>No</td>\n",
       "      <td>No</td>\n",
       "      <td>No</td>\n",
       "      <td>No</td>\n",
       "      <td>No</td>\n",
       "      <td>No</td>\n",
       "      <td>No</td>\n",
       "      <td>Steady</td>\n",
       "      <td>No</td>\n",
       "      <td>No</td>\n",
       "      <td>No</td>\n",
       "      <td>No</td>\n",
       "      <td>No</td>\n",
       "      <td>Ch</td>\n",
       "      <td>Yes</td>\n",
       "      <td>NO</td>\n",
       "    </tr>\n",
       "  </tbody>\n",
       "</table>\n",
       "</div>"
      ],
      "text/plain": [
       "   encounter_id  patient_nbr             race  gender      age weight  \\\n",
       "0       2278392      8222157        Caucasian  Female   [0-10)      ?   \n",
       "1        149190     55629189        Caucasian  Female  [10-20)      ?   \n",
       "2         64410     86047875  AfricanAmerican  Female  [20-30)      ?   \n",
       "3        500364     82442376        Caucasian    Male  [30-40)      ?   \n",
       "4         16680     42519267        Caucasian    Male  [40-50)      ?   \n",
       "\n",
       "   admission_type_id  discharge_disposition_id  admission_source_id  \\\n",
       "0                  6                        25                    1   \n",
       "1                  1                         1                    7   \n",
       "2                  1                         1                    7   \n",
       "3                  1                         1                    7   \n",
       "4                  1                         1                    7   \n",
       "\n",
       "   time_in_hospital payer_code         medical_specialty  num_lab_procedures  \\\n",
       "0                 1          ?  Pediatrics-Endocrinology                  41   \n",
       "1                 3          ?                         ?                  59   \n",
       "2                 2          ?                         ?                  11   \n",
       "3                 2          ?                         ?                  44   \n",
       "4                 1          ?                         ?                  51   \n",
       "\n",
       "   num_procedures  num_medications  number_outpatient  number_emergency  \\\n",
       "0               0                1                  0                 0   \n",
       "1               0               18                  0                 0   \n",
       "2               5               13                  2                 0   \n",
       "3               1               16                  0                 0   \n",
       "4               0                8                  0                 0   \n",
       "\n",
       "   number_inpatient  diag_1  diag_2 diag_3  number_diagnoses max_glu_serum  \\\n",
       "0                 0  250.83       ?      ?                 1          None   \n",
       "1                 0     276  250.01    255                 9          None   \n",
       "2                 1     648     250    V27                 6          None   \n",
       "3                 0       8  250.43    403                 7          None   \n",
       "4                 0     197     157    250                 5          None   \n",
       "\n",
       "  A1Cresult metformin repaglinide nateglinide chlorpropamide glimepiride  \\\n",
       "0      None        No          No          No             No          No   \n",
       "1      None        No          No          No             No          No   \n",
       "2      None        No          No          No             No          No   \n",
       "3      None        No          No          No             No          No   \n",
       "4      None        No          No          No             No          No   \n",
       "\n",
       "  acetohexamide glipizide glyburide tolbutamide pioglitazone rosiglitazone  \\\n",
       "0            No        No        No          No           No            No   \n",
       "1            No        No        No          No           No            No   \n",
       "2            No    Steady        No          No           No            No   \n",
       "3            No        No        No          No           No            No   \n",
       "4            No    Steady        No          No           No            No   \n",
       "\n",
       "  acarbose miglitol troglitazone tolazamide examide citoglipton insulin  \\\n",
       "0       No       No           No         No      No          No      No   \n",
       "1       No       No           No         No      No          No      Up   \n",
       "2       No       No           No         No      No          No      No   \n",
       "3       No       No           No         No      No          No      Up   \n",
       "4       No       No           No         No      No          No  Steady   \n",
       "\n",
       "  glyburide-metformin glipizide-metformin glimepiride-pioglitazone  \\\n",
       "0                  No                  No                       No   \n",
       "1                  No                  No                       No   \n",
       "2                  No                  No                       No   \n",
       "3                  No                  No                       No   \n",
       "4                  No                  No                       No   \n",
       "\n",
       "  metformin-rosiglitazone metformin-pioglitazone change diabetesMed readmitted  \n",
       "0                      No                     No     No          No         NO  \n",
       "1                      No                     No     Ch         Yes        >30  \n",
       "2                      No                     No     No         Yes         NO  \n",
       "3                      No                     No     Ch         Yes         NO  \n",
       "4                      No                     No     Ch         Yes         NO  "
      ]
     },
     "execution_count": 3,
     "metadata": {},
     "output_type": "execute_result"
    }
   ],
   "source": [
    "print(df.shape)\n",
    "df.head()"
   ]
  },
  {
   "cell_type": "code",
   "execution_count": 4,
   "metadata": {
    "scrolled": true
   },
   "outputs": [
    {
     "name": "stdout",
     "output_type": "stream",
     "text": [
      "<class 'pandas.core.frame.DataFrame'>\n",
      "RangeIndex: 101766 entries, 0 to 101765\n",
      "Data columns (total 50 columns):\n",
      " #   Column                    Non-Null Count   Dtype \n",
      "---  ------                    --------------   ----- \n",
      " 0   encounter_id              101766 non-null  int64 \n",
      " 1   patient_nbr               101766 non-null  int64 \n",
      " 2   race                      101766 non-null  object\n",
      " 3   gender                    101766 non-null  object\n",
      " 4   age                       101766 non-null  object\n",
      " 5   weight                    101766 non-null  object\n",
      " 6   admission_type_id         101766 non-null  int64 \n",
      " 7   discharge_disposition_id  101766 non-null  int64 \n",
      " 8   admission_source_id       101766 non-null  int64 \n",
      " 9   time_in_hospital          101766 non-null  int64 \n",
      " 10  payer_code                101766 non-null  object\n",
      " 11  medical_specialty         101766 non-null  object\n",
      " 12  num_lab_procedures        101766 non-null  int64 \n",
      " 13  num_procedures            101766 non-null  int64 \n",
      " 14  num_medications           101766 non-null  int64 \n",
      " 15  number_outpatient         101766 non-null  int64 \n",
      " 16  number_emergency          101766 non-null  int64 \n",
      " 17  number_inpatient          101766 non-null  int64 \n",
      " 18  diag_1                    101766 non-null  object\n",
      " 19  diag_2                    101766 non-null  object\n",
      " 20  diag_3                    101766 non-null  object\n",
      " 21  number_diagnoses          101766 non-null  int64 \n",
      " 22  max_glu_serum             101766 non-null  object\n",
      " 23  A1Cresult                 101766 non-null  object\n",
      " 24  metformin                 101766 non-null  object\n",
      " 25  repaglinide               101766 non-null  object\n",
      " 26  nateglinide               101766 non-null  object\n",
      " 27  chlorpropamide            101766 non-null  object\n",
      " 28  glimepiride               101766 non-null  object\n",
      " 29  acetohexamide             101766 non-null  object\n",
      " 30  glipizide                 101766 non-null  object\n",
      " 31  glyburide                 101766 non-null  object\n",
      " 32  tolbutamide               101766 non-null  object\n",
      " 33  pioglitazone              101766 non-null  object\n",
      " 34  rosiglitazone             101766 non-null  object\n",
      " 35  acarbose                  101766 non-null  object\n",
      " 36  miglitol                  101766 non-null  object\n",
      " 37  troglitazone              101766 non-null  object\n",
      " 38  tolazamide                101766 non-null  object\n",
      " 39  examide                   101766 non-null  object\n",
      " 40  citoglipton               101766 non-null  object\n",
      " 41  insulin                   101766 non-null  object\n",
      " 42  glyburide-metformin       101766 non-null  object\n",
      " 43  glipizide-metformin       101766 non-null  object\n",
      " 44  glimepiride-pioglitazone  101766 non-null  object\n",
      " 45  metformin-rosiglitazone   101766 non-null  object\n",
      " 46  metformin-pioglitazone    101766 non-null  object\n",
      " 47  change                    101766 non-null  object\n",
      " 48  diabetesMed               101766 non-null  object\n",
      " 49  readmitted                101766 non-null  object\n",
      "dtypes: int64(13), object(37)\n",
      "memory usage: 38.8+ MB\n"
     ]
    }
   ],
   "source": [
    "df.info()"
   ]
  },
  {
   "cell_type": "code",
   "execution_count": 5,
   "metadata": {},
   "outputs": [],
   "source": [
    "# Casteo a estos ids como strings\n",
    "df['admission_type_id'] = df['admission_type_id'].astype(str)\n",
    "df['discharge_disposition_id'] = df['discharge_disposition_id'].astype(str)\n",
    "df['admission_source_id'] = df['admission_source_id'].astype(str)"
   ]
  },
  {
   "cell_type": "markdown",
   "metadata": {},
   "source": [
    "###  Reporte descriptivo inicial"
   ]
  },
  {
   "cell_type": "code",
   "execution_count": 6,
   "metadata": {},
   "outputs": [],
   "source": [
    "# profile = ProfileReport(df.drop(columns = ['encounter_id', 'patient_nbr']), \n",
    "#                         title = \"Diabetes 130-US hospitals for years 1999-2008 Report\")\n",
    "# profile.to_file(\"../output/reporte_descriptivo_inicial.html\")"
   ]
  },
  {
   "cell_type": "markdown",
   "metadata": {},
   "source": [
    "De acuerdo con el reporte inicial:\n",
    "\n",
    "**Tratamiento especifico a algunas variables:**\n",
    "\n",
    "1. ```age``` se puede agrupar un poco más, especificamente en los rango bajos.\n",
    "2. ```admission_type_id``` tiene 8 categorías unicas, sin embargo las tres primeras categorias contienen el 90% de las observaciones, por lo que las demás categorias podrias agruparlo en una categoría \"otra\".\n",
    "3. ```discharge_disposition_id``` tiene 26 categorías unicas, sin embargo las tres primeras categorias contienen el 85% de las observaciones, por lo que también podemos realizar agrupaciones.\n",
    "4. ```admission_source_id``` tiene 17 categorías unicas, sin embargo las tres primeras categorias contienen el 92% de las observaciones, por lo que también podemos realizar agrupaciones.\n",
    "5. ```diag_1``` tiene 717 categorías unicas, pero la descripción del archivo nos ayudará agruparla.\n",
    "6. ```diag_2``` tiene 749 categorías unicas, pero la descripción del archivo nos ayudará agruparla.\n",
    "7. ```diag_3``` tiene 790 categorías unicas, pero la descripción del archivo nos ayudará agruparla.\n",
    "8. ```number_outpatient``` es el número de visitas ambulatorias en el año anterior a la visita actual, debido a que el 84% tiene 0 visitas y existe un máximo de 42, se recodificará esta variable en binaria, donde 1 es si el paciente ha hecho alguna visita antes y 0 en caso contrario.\n",
    "9. ```number_emergency``` y ```number_inpatient``` también presenta una situación similar a la variable del punto 8.\n",
    "\n",
    "**Eliminar las siguientes variables:**\n",
    "1. ```payer_code``` presenta un 40% de valores perdidos.\n",
    "2. ```medical_specialty``` presenta un 49% de valores perdidos y además 73 categorías unicas.\n",
    "3. ```examide``` tiene 1 categorías unicas.\n",
    "4. ```citoglipton``` tiene 1 categorías unicas.\n",
    "5. ```weight``` presenta un 96.9% de valores perdidos.\n",
    "6. ```examide``` y ```citoglipton``` no fue suministrado en ninguna ocasión.\n",
    "7. En todos los medicamentos exceptuando ```insulin```, el aumento o disminución de dosis es poco frecuente, por lo que se codificara como 1 si fue suministrado y 0 en caso contrario.\n",
    "8. Remover aquellas variables sobre medicaciones en donde a más del 98% de las visitas no se diagnostico el medicamento."
   ]
  },
  {
   "cell_type": "markdown",
   "metadata": {},
   "source": [
    "###  Preparación del data set"
   ]
  },
  {
   "cell_type": "markdown",
   "metadata": {},
   "source": [
    "**Filtros**"
   ]
  },
  {
   "cell_type": "markdown",
   "metadata": {},
   "source": [
    "Tenemos 30,248 registros donde algún paciente ha tenido más de una visita, por lo que en este caso nos quedamos con la primera visita, pues es aqui donde podemos empezar a identificar patrones sobre su readmisión."
   ]
  },
  {
   "cell_type": "code",
   "execution_count": 7,
   "metadata": {},
   "outputs": [
    {
     "name": "stdout",
     "output_type": "stream",
     "text": [
      "Cantidad de duplicados en el id de la instancia: 0\n",
      "Cantidad de duplicados en el id del paciente: 30248\n"
     ]
    }
   ],
   "source": [
    "print('Cantidad de duplicados en el id de la instancia:', df['encounter_id'].duplicated().sum())\n",
    "print('Cantidad de duplicados en el id del paciente:', df['patient_nbr'].duplicated().sum())"
   ]
  },
  {
   "cell_type": "code",
   "execution_count": 8,
   "metadata": {},
   "outputs": [],
   "source": [
    "df = df.drop_duplicates(subset= ['patient_nbr'], keep = 'first')"
   ]
  },
  {
   "cell_type": "code",
   "execution_count": 9,
   "metadata": {},
   "outputs": [
    {
     "name": "stdout",
     "output_type": "stream",
     "text": [
      "(71518, 50)\n"
     ]
    }
   ],
   "source": [
    "print(df.shape)"
   ]
  },
  {
   "cell_type": "markdown",
   "metadata": {},
   "source": [
    "Es importante tener en cuenta que la variable ```discharge_disposition_id``` nos indica si una persona murió (las categorías 11, 19, 20, 21). También aquellos relacionados con cuidado \"hospice\" (categorías 13 y 14), que está relacionado con enfermos terminales, donde el tratamiento ya no le funciona para evitar que se presente una readmisión. Por lo anterior, dado que queremos predecir que tan probable es que un paciente sea readmitido, entonces está población será excluida del análisis con el fin de no incluir ruido al modelo."
   ]
  },
  {
   "cell_type": "code",
   "execution_count": 10,
   "metadata": {},
   "outputs": [],
   "source": [
    "patient_drop = df.loc[df['discharge_disposition_id'].isin(['11', '13', '14', '19', '20', '21']), 'patient_nbr']\n",
    "df = df[~df['patient_nbr'].isin(patient_drop)]"
   ]
  },
  {
   "cell_type": "code",
   "execution_count": 11,
   "metadata": {},
   "outputs": [
    {
     "name": "stdout",
     "output_type": "stream",
     "text": [
      "(69973, 50)\n"
     ]
    }
   ],
   "source": [
    "print(df.shape)"
   ]
  },
  {
   "cell_type": "markdown",
   "metadata": {},
   "source": [
    "**Manejo de valores perdidos**"
   ]
  },
  {
   "cell_type": "code",
   "execution_count": 12,
   "metadata": {},
   "outputs": [],
   "source": [
    "def f_recode_missing(x: pd.Series):\n",
    "    \"\"\"\n",
    "    This function replaces the missing values of this dataset to 'sin_info'\n",
    "    \"\"\"\n",
    "    \n",
    "    try:\n",
    "        x = x.replace({'?': 'sin_info', 'Unknown/Invalid': 'sin_info'})\n",
    "    except:\n",
    "        pass\n",
    "\n",
    "    return(x)"
   ]
  },
  {
   "cell_type": "code",
   "execution_count": 13,
   "metadata": {},
   "outputs": [],
   "source": [
    "# recode missing values\n",
    "df = df.apply(f_recode_missing)"
   ]
  },
  {
   "cell_type": "code",
   "execution_count": 14,
   "metadata": {},
   "outputs": [],
   "source": [
    "pos_drop = (\n",
    "            (df['diag_1'] == 'sin_info') | \n",
    "            (df['diag_2'] == 'sin_info') | \n",
    "            (df['diag_3'] == 'sin_info') |\n",
    "            (df['gender'] == 'sin_info') |\n",
    "            (df['race'] == 'sin_info')\n",
    "           )\n",
    "df = df[~pos_drop]"
   ]
  },
  {
   "cell_type": "code",
   "execution_count": 15,
   "metadata": {},
   "outputs": [
    {
     "name": "stdout",
     "output_type": "stream",
     "text": [
      "(66843, 50)\n"
     ]
    }
   ],
   "source": [
    "print(df.shape)"
   ]
  },
  {
   "cell_type": "markdown",
   "metadata": {},
   "source": [
    "**Feature Engineering**"
   ]
  },
  {
   "cell_type": "code",
   "execution_count": 16,
   "metadata": {},
   "outputs": [
    {
     "name": "stdout",
     "output_type": "stream",
     "text": [
      "0    60769\n",
      "1     6074\n",
      "Name: readmitted, dtype: int64\n"
     ]
    },
    {
     "data": {
      "text/plain": [
       "0    0.90913\n",
       "1    0.09087\n",
       "Name: readmitted, dtype: float64"
      ]
     },
     "execution_count": 16,
     "metadata": {},
     "output_type": "execute_result"
    }
   ],
   "source": [
    "df['readmitted'] = df['readmitted'].replace({'NO': 0, '<30': 1, '>30': 0})\n",
    "print(df['readmitted'].value_counts())\n",
    "df['readmitted'].value_counts(normalize = True)"
   ]
  },
  {
   "cell_type": "code",
   "execution_count": 17,
   "metadata": {},
   "outputs": [],
   "source": [
    "def f_prepare_diag(x: pd.Series):\n",
    "    \"\"\"\n",
    "    This function proccess the diagnostic code.\n",
    "    \"\"\"\n",
    "    # circulatory codes\n",
    "    x=  np.where(((x >= '390') & (x <= '459')) | (x == '785'), 'circulatorio', \n",
    "    # respiratory codes\n",
    "        np.where(((x >= '460') & (x <= '519')) | (x == '786'), 'respiratorio',\n",
    "    # digestive codes\n",
    "        np.where(((x >= '520') & (x <= '579')) | (x == '787'), 'digestivo',\n",
    "    # diabetes codes\n",
    "        np.where(x.str.startswith('250.'), 'diabetes',\n",
    "    # injury codes\n",
    "        np.where(((x >= '800') & (x <= '999')), 'lesion',\n",
    "    # Musculoskeletal codes\n",
    "        np.where(((x >= '710') & (x <= '739')), 'musculoesqueletico', \n",
    "    # Genitourinary codes\n",
    "        np.where(((x >= '580') & (x <= '629')) | (x == '788'), 'urinario', 'otro')))))))\n",
    "\n",
    "    return(x)"
   ]
  },
  {
   "cell_type": "code",
   "execution_count": 18,
   "metadata": {},
   "outputs": [],
   "source": [
    "# re_codificacion de las variables\n",
    "df['age'] = df['age'].replace({'[20-30)' : 'menos_de_30',\n",
    "                               '[10-20)' : 'menos_de_30',\n",
    "                               '[0-10)'  : 'menos_de_30',\n",
    "                               '[80-90)' : 'mas_de_80',\n",
    "                               '[90-100)': 'mas_de_80'})\n",
    "df['age'] = df['age'].str.replace('-', '_')\n",
    "df['age'] = df['age'].str.replace('[', '')\n",
    "df['age'] = df['age'].str.replace(')', '')\n",
    "\n",
    "df['admission_type_id'] = np.where(df['admission_type_id'].isin(['1', '2']), 'Emergency',\n",
    "                          np.where(df['admission_type_id'] == '3', 'Elective', \n",
    "                          np.where(df['admission_type_id'].isin(['5', '6', '8']), 'sin_info', 'otro')))\n",
    "\n",
    "df['discharge_disposition_id'] = df['discharge_disposition_id'].replace({'6': '1', \n",
    "                                                                         '8': '1',\n",
    "                                                                         '3': '2', \n",
    "                                                                         '4': '2', \n",
    "                                                                         '5': '2'})\n",
    "df['discharge_disposition_id'] = np.where(df['discharge_disposition_id'].isin(['18', '25', '26']), 'sin_info', \n",
    "                                 np.where(df['discharge_disposition_id'].isin(['1', '2', '22']), df['discharge_disposition_id'],\n",
    "                                          'otro'))\n",
    "\n",
    "df['admission_source_id'] = df['admission_source_id'].replace({'2': '1', \n",
    "                                                               '3': '1',\n",
    "                                                               '5': '4', \n",
    "                                                               '6': '4', \n",
    "                                                               '10': '4', \n",
    "                                                               '22': '4',\n",
    "                                                               '25': '4'\n",
    "                                                              })\n",
    "df['admission_source_id'] = np.where(df['admission_source_id'].isin(['9', '15', '17', '20', '21']), 'sin_info', \n",
    "                            np.where(df['admission_source_id'].isin(['1', '7', '4',]), df['admission_source_id'],\n",
    "                                      'otro'))\n",
    "\n",
    "df['diag_1'] = f_prepare_diag(df['diag_1'])\n",
    "df['diag_2'] = f_prepare_diag(df['diag_2'])\n",
    "df['diag_3'] = f_prepare_diag(df['diag_3'])\n",
    "\n",
    "df['diag'] = df['diag_1'].copy()\n",
    "df['diag'] = np.where(df['diag'] == 'otro', df['diag_2'], df['diag'])\n",
    "df['diag'] = np.where(df['diag'] == 'otro', df['diag_3'], df['diag'])\n",
    "\n",
    "df['number_outpatient_bin'] = np.where(df['number_outpatient'] > 0, 1, 0)\n",
    "df['number_emergency_bin'] = np.where(df['number_emergency'] > 0, 1, 0)\n",
    "df['number_inpatient_cat'] = np.where(df['number_inpatient'] > 3, '3_o_mas', df['number_inpatient'].astype(str))\n",
    "\n",
    "df['A1Cresult'] = df['A1Cresult'].replace({'>8': 'mayor_8', '>7': 'entre7_8'})\n",
    "df['max_glu_serum'] = df['max_glu_serum'].replace({'>200': 'mayor_200', '>300': 'mayor_300'})"
   ]
  },
  {
   "cell_type": "code",
   "execution_count": 19,
   "metadata": {},
   "outputs": [],
   "source": [
    "cols_drop = ['payer_code', \n",
    "             'medical_specialty',\n",
    "             'diag_1',\n",
    "             'diag_2',\n",
    "             'diag_3',\n",
    "             'weight',\n",
    "             'examide',\n",
    "             'citoglipton',\n",
    "             'encounter_id',\n",
    "             'patient_nbr',\n",
    "             'number_outpatient',\n",
    "             'number_emergency',\n",
    "             'number_inpatient']\n",
    "\n",
    "df.drop(columns = cols_drop, inplace = True)"
   ]
  },
  {
   "cell_type": "code",
   "execution_count": 20,
   "metadata": {},
   "outputs": [],
   "source": [
    "med_cols = [\n",
    "    'metformin',\n",
    "    'repaglinide',\n",
    "    'nateglinide',\n",
    "    'chlorpropamide',\n",
    "    'glimepiride', \n",
    "    'acetohexamide', \n",
    "    'glipizide', \n",
    "    'glyburide', \n",
    "    'tolbutamide', \n",
    "    'pioglitazone', \n",
    "    'rosiglitazone', \n",
    "    'acarbose', \n",
    "    'miglitol', \n",
    "    'troglitazone', \n",
    "    'tolazamide', \n",
    "    'insulin', \n",
    "    'glyburide-metformin', \n",
    "    'glipizide-metformin', \n",
    "    'glimepiride-pioglitazone', \n",
    "    'metformin-rosiglitazone', \n",
    "    'metformin-pioglitazone'\n",
    "]"
   ]
  },
  {
   "cell_type": "code",
   "execution_count": 21,
   "metadata": {},
   "outputs": [],
   "source": [
    "df[med_cols] = df[med_cols].apply(lambda x: np.where(x == 'No', 0, 1))"
   ]
  },
  {
   "cell_type": "code",
   "execution_count": 22,
   "metadata": {},
   "outputs": [],
   "source": [
    "# Calculemos sobre estos medicamentos el total suministrados en una visita\n",
    "df['num_med_selected'] = df[med_cols].sum(axis = 1)"
   ]
  },
  {
   "cell_type": "code",
   "execution_count": 23,
   "metadata": {},
   "outputs": [],
   "source": [
    "# Eliminar variables asociadas a los medicamentos que se aplicaron en menos del 2% de los pacientes\n",
    "var_drop_no = 1 - df[med_cols].mean()\n",
    "var_drop_no = var_drop_no[var_drop_no >= .98].index\n",
    "var_drop_no = list(var_drop_no)\n",
    "\n",
    "df.drop(columns = var_drop_no, inplace = True)"
   ]
  },
  {
   "cell_type": "markdown",
   "metadata": {},
   "source": [
    "**Manejo de Outliers**\n",
    "\n",
    "Con las variables cuantitativas que quedaron, no resulta necesario realizar un tratamiento de outliers como truncamientos."
   ]
  },
  {
   "cell_type": "code",
   "execution_count": 24,
   "metadata": {},
   "outputs": [],
   "source": [
    "cuant_vars = [\n",
    "    'time_in_hospital',\n",
    "    'num_lab_procedures',\n",
    "    'num_procedures',\n",
    "    'num_medications',\n",
    "    'number_diagnoses',\n",
    "    'num_med_selected'\n",
    "]"
   ]
  },
  {
   "cell_type": "code",
   "execution_count": 25,
   "metadata": {},
   "outputs": [
    {
     "data": {
      "text/html": [
       "<div>\n",
       "<style scoped>\n",
       "    .dataframe tbody tr th:only-of-type {\n",
       "        vertical-align: middle;\n",
       "    }\n",
       "\n",
       "    .dataframe tbody tr th {\n",
       "        vertical-align: top;\n",
       "    }\n",
       "\n",
       "    .dataframe thead th {\n",
       "        text-align: right;\n",
       "    }\n",
       "</style>\n",
       "<table border=\"1\" class=\"dataframe\">\n",
       "  <thead>\n",
       "    <tr style=\"text-align: right;\">\n",
       "      <th></th>\n",
       "      <th>time_in_hospital</th>\n",
       "      <th>num_lab_procedures</th>\n",
       "      <th>num_procedures</th>\n",
       "      <th>num_medications</th>\n",
       "      <th>number_diagnoses</th>\n",
       "      <th>num_med_selected</th>\n",
       "    </tr>\n",
       "  </thead>\n",
       "  <tbody>\n",
       "    <tr>\n",
       "      <th>0.500</th>\n",
       "      <td>4.0</td>\n",
       "      <td>44.0</td>\n",
       "      <td>1.0</td>\n",
       "      <td>14.0</td>\n",
       "      <td>8.0</td>\n",
       "      <td>1.0</td>\n",
       "    </tr>\n",
       "    <tr>\n",
       "      <th>0.750</th>\n",
       "      <td>6.0</td>\n",
       "      <td>57.0</td>\n",
       "      <td>2.0</td>\n",
       "      <td>20.0</td>\n",
       "      <td>9.0</td>\n",
       "      <td>2.0</td>\n",
       "    </tr>\n",
       "    <tr>\n",
       "      <th>0.900</th>\n",
       "      <td>9.0</td>\n",
       "      <td>68.0</td>\n",
       "      <td>4.0</td>\n",
       "      <td>26.0</td>\n",
       "      <td>9.0</td>\n",
       "      <td>2.0</td>\n",
       "    </tr>\n",
       "    <tr>\n",
       "      <th>0.950</th>\n",
       "      <td>11.0</td>\n",
       "      <td>74.0</td>\n",
       "      <td>6.0</td>\n",
       "      <td>31.0</td>\n",
       "      <td>9.0</td>\n",
       "      <td>3.0</td>\n",
       "    </tr>\n",
       "    <tr>\n",
       "      <th>0.990</th>\n",
       "      <td>13.0</td>\n",
       "      <td>85.0</td>\n",
       "      <td>6.0</td>\n",
       "      <td>44.0</td>\n",
       "      <td>9.0</td>\n",
       "      <td>4.0</td>\n",
       "    </tr>\n",
       "    <tr>\n",
       "      <th>0.995</th>\n",
       "      <td>14.0</td>\n",
       "      <td>90.0</td>\n",
       "      <td>6.0</td>\n",
       "      <td>50.0</td>\n",
       "      <td>9.0</td>\n",
       "      <td>4.0</td>\n",
       "    </tr>\n",
       "  </tbody>\n",
       "</table>\n",
       "</div>"
      ],
      "text/plain": [
       "       time_in_hospital  num_lab_procedures  num_procedures  num_medications  \\\n",
       "0.500               4.0                44.0             1.0             14.0   \n",
       "0.750               6.0                57.0             2.0             20.0   \n",
       "0.900               9.0                68.0             4.0             26.0   \n",
       "0.950              11.0                74.0             6.0             31.0   \n",
       "0.990              13.0                85.0             6.0             44.0   \n",
       "0.995              14.0                90.0             6.0             50.0   \n",
       "\n",
       "       number_diagnoses  num_med_selected  \n",
       "0.500               8.0               1.0  \n",
       "0.750               9.0               2.0  \n",
       "0.900               9.0               2.0  \n",
       "0.950               9.0               3.0  \n",
       "0.990               9.0               4.0  \n",
       "0.995               9.0               4.0  "
      ]
     },
     "execution_count": 25,
     "metadata": {},
     "output_type": "execute_result"
    }
   ],
   "source": [
    "df[cuant_vars].quantile([0.5, 0.75, 0.9, 0.95, 0.99, 0.995])"
   ]
  },
  {
   "cell_type": "markdown",
   "metadata": {},
   "source": [
    "###  EDA"
   ]
  },
  {
   "cell_type": "code",
   "execution_count": 26,
   "metadata": {},
   "outputs": [
    {
     "name": "stdout",
     "output_type": "stream",
     "text": [
      "<class 'pandas.core.frame.DataFrame'>\n",
      "Int64Index: 66843 entries, 1 to 101765\n",
      "Data columns (total 28 columns):\n",
      " #   Column                    Non-Null Count  Dtype \n",
      "---  ------                    --------------  ----- \n",
      " 0   race                      66843 non-null  object\n",
      " 1   gender                    66843 non-null  object\n",
      " 2   age                       66843 non-null  object\n",
      " 3   admission_type_id         66843 non-null  object\n",
      " 4   discharge_disposition_id  66843 non-null  object\n",
      " 5   admission_source_id       66843 non-null  object\n",
      " 6   time_in_hospital          66843 non-null  int64 \n",
      " 7   num_lab_procedures        66843 non-null  int64 \n",
      " 8   num_procedures            66843 non-null  int64 \n",
      " 9   num_medications           66843 non-null  int64 \n",
      " 10  number_diagnoses          66843 non-null  int64 \n",
      " 11  max_glu_serum             66843 non-null  object\n",
      " 12  A1Cresult                 66843 non-null  object\n",
      " 13  metformin                 66843 non-null  int32 \n",
      " 14  glimepiride               66843 non-null  int32 \n",
      " 15  glipizide                 66843 non-null  int32 \n",
      " 16  glyburide                 66843 non-null  int32 \n",
      " 17  pioglitazone              66843 non-null  int32 \n",
      " 18  rosiglitazone             66843 non-null  int32 \n",
      " 19  insulin                   66843 non-null  int32 \n",
      " 20  change                    66843 non-null  object\n",
      " 21  diabetesMed               66843 non-null  object\n",
      " 22  readmitted                66843 non-null  int64 \n",
      " 23  diag                      66843 non-null  object\n",
      " 24  number_outpatient_bin     66843 non-null  int32 \n",
      " 25  number_emergency_bin      66843 non-null  int32 \n",
      " 26  number_inpatient_cat      66843 non-null  object\n",
      " 27  num_med_selected          66843 non-null  int64 \n",
      "dtypes: int32(9), int64(7), object(12)\n",
      "memory usage: 12.5+ MB\n"
     ]
    }
   ],
   "source": [
    "df.info()"
   ]
  },
  {
   "cell_type": "code",
   "execution_count": 27,
   "metadata": {},
   "outputs": [],
   "source": [
    "target = 'readmitted'\n",
    "cuali_vars = df.drop(columns = cuant_vars + [target]).columns"
   ]
  },
  {
   "cell_type": "code",
   "execution_count": 28,
   "metadata": {},
   "outputs": [
    {
     "name": "stdout",
     "output_type": "stream",
     "text": [
      "=========================================================================\n"
     ]
    },
    {
     "data": {
      "image/png": "[encoded data removed]",
      "text/plain": [
       "<Figure size 432x288 with 1 Axes>"
      ]
     },
     "metadata": {
      "needs_background": "light"
     },
     "output_type": "display_data"
    },
    {
     "name": "stdout",
     "output_type": "stream",
     "text": [
      "=========================================================================\n"
     ]
    },
    {
     "data": {
      "image/png": "[encoded data removed]",
      "text/plain": [
       "<Figure size 432x288 with 1 Axes>"
      ]
     },
     "metadata": {
      "needs_background": "light"
     },
     "output_type": "display_data"
    },
    {
     "name": "stdout",
     "output_type": "stream",
     "text": [
      "=========================================================================\n"
     ]
    },
    {
     "data": {
      "image/png": "[encoded data removed]",
      "text/plain": [
       "<Figure size 432x288 with 1 Axes>"
      ]
     },
     "metadata": {
      "needs_background": "light"
     },
     "output_type": "display_data"
    },
    {
     "name": "stdout",
     "output_type": "stream",
     "text": [
      "=========================================================================\n"
     ]
    },
    {
     "data": {
      "image/png": "[encoded data removed]",
      "text/plain": [
       "<Figure size 432x288 with 1 Axes>"
      ]
     },
     "metadata": {
      "needs_background": "light"
     },
     "output_type": "display_data"
    },
    {
     "name": "stdout",
     "output_type": "stream",
     "text": [
      "=========================================================================\n"
     ]
    },
    {
     "data": {
      "image/png": "[encoded data removed]",
      "text/plain": [
       "<Figure size 432x288 with 1 Axes>"
      ]
     },
     "metadata": {
      "needs_background": "light"
     },
     "output_type": "display_data"
    },
    {
     "name": "stdout",
     "output_type": "stream",
     "text": [
      "=========================================================================\n"
     ]
    },
    {
     "data": {
      "image/png": "[encoded data removed]",
      "text/plain": [
       "<Figure size 432x288 with 1 Axes>"
      ]
     },
     "metadata": {
      "needs_background": "light"
     },
     "output_type": "display_data"
    },
    {
     "name": "stdout",
     "output_type": "stream",
     "text": [
      "=========================================================================\n"
     ]
    },
    {
     "data": {
      "image/png": "[encoded data removed]",
      "text/plain": [
       "<Figure size 432x288 with 1 Axes>"
      ]
     },
     "metadata": {
      "needs_background": "light"
     },
     "output_type": "display_data"
    },
    {
     "name": "stdout",
     "output_type": "stream",
     "text": [
      "=========================================================================\n"
     ]
    },
    {
     "data": {
      "image/png": "[encoded data removed]",
      "text/plain": [
       "<Figure size 432x288 with 1 Axes>"
      ]
     },
     "metadata": {
      "needs_background": "light"
     },
     "output_type": "display_data"
    },
    {
     "name": "stdout",
     "output_type": "stream",
     "text": [
      "=========================================================================\n"
     ]
    },
    {
     "data": {
      "image/png": "[encoded data removed]",
      "text/plain": [
       "<Figure size 432x288 with 1 Axes>"
      ]
     },
     "metadata": {
      "needs_background": "light"
     },
     "output_type": "display_data"
    },
    {
     "name": "stdout",
     "output_type": "stream",
     "text": [
      "=========================================================================\n"
     ]
    },
    {
     "data": {
      "image/png": "[encoded data removed]",
      "text/plain": [
       "<Figure size 432x288 with 1 Axes>"
      ]
     },
     "metadata": {
      "needs_background": "light"
     },
     "output_type": "display_data"
    },
    {
     "name": "stdout",
     "output_type": "stream",
     "text": [
      "=========================================================================\n"
     ]
    },
    {
     "data": {
      "image/png": "[encoded data removed]",
      "text/plain": [
       "<Figure size 432x288 with 1 Axes>"
      ]
     },
     "metadata": {
      "needs_background": "light"
     },
     "output_type": "display_data"
    },
    {
     "name": "stdout",
     "output_type": "stream",
     "text": [
      "=========================================================================\n"
     ]
    },
    {
     "data": {
      "image/png": "[encoded data removed]",
      "text/plain": [
       "<Figure size 432x288 with 1 Axes>"
      ]
     },
     "metadata": {
      "needs_background": "light"
     },
     "output_type": "display_data"
    },
    {
     "name": "stdout",
     "output_type": "stream",
     "text": [
      "=========================================================================\n"
     ]
    },
    {
     "data": {
      "image/png": "[encoded data removed]",
      "text/plain": [
       "<Figure size 432x288 with 1 Axes>"
      ]
     },
     "metadata": {
      "needs_background": "light"
     },
     "output_type": "display_data"
    },
    {
     "name": "stdout",
     "output_type": "stream",
     "text": [
      "=========================================================================\n"
     ]
    },
    {
     "data": {
      "image/png": "[encoded data removed]",
      "text/plain": [
       "<Figure size 432x288 with 1 Axes>"
      ]
     },
     "metadata": {
      "needs_background": "light"
     },
     "output_type": "display_data"
    },
    {
     "name": "stdout",
     "output_type": "stream",
     "text": [
      "=========================================================================\n"
     ]
    },
    {
     "data": {
      "image/png": "[encoded data removed]",
      "text/plain": [
       "<Figure size 432x288 with 1 Axes>"
      ]
     },
     "metadata": {
      "needs_background": "light"
     },
     "output_type": "display_data"
    },
    {
     "name": "stdout",
     "output_type": "stream",
     "text": [
      "=========================================================================\n"
     ]
    },
    {
     "data": {
      "image/png": "[encoded data removed]",
      "text/plain": [
       "<Figure size 432x288 with 1 Axes>"
      ]
     },
     "metadata": {
      "needs_background": "light"
     },
     "output_type": "display_data"
    },
    {
     "name": "stdout",
     "output_type": "stream",
     "text": [
      "=========================================================================\n"
     ]
    },
    {
     "data": {
      "image/png": "[encoded data removed]",
      "text/plain": [
       "<Figure size 432x288 with 1 Axes>"
      ]
     },
     "metadata": {
      "needs_background": "light"
     },
     "output_type": "display_data"
    },
    {
     "name": "stdout",
     "output_type": "stream",
     "text": [
      "=========================================================================\n"
     ]
    },
    {
     "data": {
      "image/png": "[encoded data removed]",
      "text/plain": [
       "<Figure size 432x288 with 1 Axes>"
      ]
     },
     "metadata": {
      "needs_background": "light"
     },
     "output_type": "display_data"
    },
    {
     "name": "stdout",
     "output_type": "stream",
     "text": [
      "=========================================================================\n"
     ]
    },
    {
     "data": {
      "image/png": "[encoded data removed]",
      "text/plain": [
       "<Figure size 432x288 with 1 Axes>"
      ]
     },
     "metadata": {
      "needs_background": "light"
     },
     "output_type": "display_data"
    },
    {
     "name": "stdout",
     "output_type": "stream",
     "text": [
      "=========================================================================\n"
     ]
    },
    {
     "data": {
      "image/png": "[encoded data removed]",
      "text/plain": [
       "<Figure size 432x288 with 1 Axes>"
      ]
     },
     "metadata": {
      "needs_background": "light"
     },
     "output_type": "display_data"
    },
    {
     "name": "stdout",
     "output_type": "stream",
     "text": [
      "=========================================================================\n"
     ]
    },
    {
     "data": {
      "image/png": "[encoded data removed]",
      "text/plain": [
       "<Figure size 432x288 with 1 Axes>"
      ]
     },
     "metadata": {
      "needs_background": "light"
     },
     "output_type": "display_data"
    },
    {
     "name": "stdout",
     "output_type": "stream",
     "text": [
      "=========================================================================\n"
     ]
    }
   ],
   "source": [
    "print(\"=========================================================================\")\n",
    "for x in cuali_vars:\n",
    "    sns.countplot(x = target, hue = x, data = df)\n",
    "    plt.title(x)\n",
    "    plt.show()\n",
    "    print(\"=========================================================================\")"
   ]
  },
  {
   "cell_type": "code",
   "execution_count": 29,
   "metadata": {},
   "outputs": [
    {
     "data": {
      "text/html": [
       "<div>\n",
       "<style scoped>\n",
       "    .dataframe tbody tr th:only-of-type {\n",
       "        vertical-align: middle;\n",
       "    }\n",
       "\n",
       "    .dataframe tbody tr th {\n",
       "        vertical-align: top;\n",
       "    }\n",
       "\n",
       "    .dataframe thead tr th {\n",
       "        text-align: left;\n",
       "    }\n",
       "\n",
       "    .dataframe thead tr:last-of-type th {\n",
       "        text-align: right;\n",
       "    }\n",
       "</style>\n",
       "<table border=\"1\" class=\"dataframe\">\n",
       "  <thead>\n",
       "    <tr>\n",
       "      <th></th>\n",
       "      <th colspan=\"2\" halign=\"left\">time_in_hospital</th>\n",
       "      <th colspan=\"2\" halign=\"left\">num_lab_procedures</th>\n",
       "      <th colspan=\"2\" halign=\"left\">num_procedures</th>\n",
       "      <th colspan=\"2\" halign=\"left\">num_medications</th>\n",
       "      <th colspan=\"2\" halign=\"left\">number_diagnoses</th>\n",
       "      <th colspan=\"2\" halign=\"left\">num_med_selected</th>\n",
       "    </tr>\n",
       "    <tr>\n",
       "      <th></th>\n",
       "      <th>mean</th>\n",
       "      <th>std</th>\n",
       "      <th>mean</th>\n",
       "      <th>std</th>\n",
       "      <th>mean</th>\n",
       "      <th>std</th>\n",
       "      <th>mean</th>\n",
       "      <th>std</th>\n",
       "      <th>mean</th>\n",
       "      <th>std</th>\n",
       "      <th>mean</th>\n",
       "      <th>std</th>\n",
       "    </tr>\n",
       "    <tr>\n",
       "      <th>readmitted</th>\n",
       "      <th></th>\n",
       "      <th></th>\n",
       "      <th></th>\n",
       "      <th></th>\n",
       "      <th></th>\n",
       "      <th></th>\n",
       "      <th></th>\n",
       "      <th></th>\n",
       "      <th></th>\n",
       "      <th></th>\n",
       "      <th></th>\n",
       "      <th></th>\n",
       "    </tr>\n",
       "  </thead>\n",
       "  <tbody>\n",
       "    <tr>\n",
       "      <th>0</th>\n",
       "      <td>4.250967</td>\n",
       "      <td>2.925544</td>\n",
       "      <td>42.735869</td>\n",
       "      <td>19.992372</td>\n",
       "      <td>1.440899</td>\n",
       "      <td>1.763489</td>\n",
       "      <td>15.681663</td>\n",
       "      <td>8.252703</td>\n",
       "      <td>7.303872</td>\n",
       "      <td>1.900252</td>\n",
       "      <td>1.185440</td>\n",
       "      <td>0.948493</td>\n",
       "    </tr>\n",
       "    <tr>\n",
       "      <th>1</th>\n",
       "      <td>4.813632</td>\n",
       "      <td>3.063439</td>\n",
       "      <td>44.940402</td>\n",
       "      <td>19.366088</td>\n",
       "      <td>1.437603</td>\n",
       "      <td>1.736506</td>\n",
       "      <td>16.712381</td>\n",
       "      <td>8.336854</td>\n",
       "      <td>7.580507</td>\n",
       "      <td>1.772465</td>\n",
       "      <td>1.222917</td>\n",
       "      <td>0.907383</td>\n",
       "    </tr>\n",
       "  </tbody>\n",
       "</table>\n",
       "</div>"
      ],
      "text/plain": [
       "           time_in_hospital           num_lab_procedures             \\\n",
       "                       mean       std               mean        std   \n",
       "readmitted                                                            \n",
       "0                  4.250967  2.925544          42.735869  19.992372   \n",
       "1                  4.813632  3.063439          44.940402  19.366088   \n",
       "\n",
       "           num_procedures           num_medications            \\\n",
       "                     mean       std            mean       std   \n",
       "readmitted                                                      \n",
       "0                1.440899  1.763489       15.681663  8.252703   \n",
       "1                1.437603  1.736506       16.712381  8.336854   \n",
       "\n",
       "           number_diagnoses           num_med_selected            \n",
       "                       mean       std             mean       std  \n",
       "readmitted                                                        \n",
       "0                  7.303872  1.900252         1.185440  0.948493  \n",
       "1                  7.580507  1.772465         1.222917  0.907383  "
      ]
     },
     "execution_count": 29,
     "metadata": {},
     "output_type": "execute_result"
    }
   ],
   "source": [
    "(\n",
    "    df\n",
    "    .groupby([target])[cuant_vars]\n",
    "    .agg(['mean', np.std])\n",
    ")"
   ]
  },
  {
   "cell_type": "code",
   "execution_count": 30,
   "metadata": {
    "scrolled": true
   },
   "outputs": [
    {
     "name": "stdout",
     "output_type": "stream",
     "text": [
      "=========================================================================\n"
     ]
    },
    {
     "data": {
      "image/png": "[encoded data removed]",
      "text/plain": [
       "<Figure size 432x288 with 1 Axes>"
      ]
     },
     "metadata": {
      "needs_background": "light"
     },
     "output_type": "display_data"
    },
    {
     "name": "stdout",
     "output_type": "stream",
     "text": [
      "=========================================================================\n"
     ]
    },
    {
     "data": {
      "image/png": "[encoded data removed]",
      "text/plain": [
       "<Figure size 432x288 with 1 Axes>"
      ]
     },
     "metadata": {
      "needs_background": "light"
     },
     "output_type": "display_data"
    },
    {
     "name": "stdout",
     "output_type": "stream",
     "text": [
      "=========================================================================\n"
     ]
    },
    {
     "data": {
      "image/png": "[encoded data removed]",
      "text/plain": [
       "<Figure size 432x288 with 1 Axes>"
      ]
     },
     "metadata": {
      "needs_background": "light"
     },
     "output_type": "display_data"
    },
    {
     "name": "stdout",
     "output_type": "stream",
     "text": [
      "=========================================================================\n"
     ]
    },
    {
     "data": {
      "image/png": "[encoded data removed]",
      "text/plain": [
       "<Figure size 432x288 with 1 Axes>"
      ]
     },
     "metadata": {
      "needs_background": "light"
     },
     "output_type": "display_data"
    },
    {
     "name": "stdout",
     "output_type": "stream",
     "text": [
      "=========================================================================\n"
     ]
    },
    {
     "data": {
      "image/png": "[encoded data removed]",
      "text/plain": [
       "<Figure size 432x288 with 1 Axes>"
      ]
     },
     "metadata": {
      "needs_background": "light"
     },
     "output_type": "display_data"
    },
    {
     "name": "stdout",
     "output_type": "stream",
     "text": [
      "=========================================================================\n"
     ]
    },
    {
     "data": {
      "image/png": "[encoded data removed]",
      "text/plain": [
       "<Figure size 432x288 with 1 Axes>"
      ]
     },
     "metadata": {
      "needs_background": "light"
     },
     "output_type": "display_data"
    },
    {
     "name": "stdout",
     "output_type": "stream",
     "text": [
      "=========================================================================\n"
     ]
    }
   ],
   "source": [
    "print(\"=========================================================================\")\n",
    "for x in cuant_vars:\n",
    "    sns.boxplot(x = target, y = x, data = df)\n",
    "    plt.title(x)\n",
    "    plt.show()\n",
    "    print(\"=========================================================================\")"
   ]
  },
  {
   "cell_type": "markdown",
   "metadata": {},
   "source": [
    "### Dataset para el modelo"
   ]
  },
  {
   "cell_type": "code",
   "execution_count": 31,
   "metadata": {},
   "outputs": [],
   "source": [
    "var_to_dummies = [x for x in cuali_vars if x not in med_cols and 'bin' not in x]"
   ]
  },
  {
   "cell_type": "code",
   "execution_count": 32,
   "metadata": {},
   "outputs": [],
   "source": [
    "X = pd.get_dummies(df, columns = var_to_dummies)\n",
    "cols_drop = [x for x in X.columns if 'sin_info' in x or 'None' in x] #or 'discharge_disposition' in x]\n",
    "X = X.drop(columns = cols_drop)"
   ]
  },
  {
   "cell_type": "code",
   "execution_count": 33,
   "metadata": {},
   "outputs": [],
   "source": [
    "y = X[target]\n",
    "X = X.drop(columns = target)"
   ]
  },
  {
   "cell_type": "code",
   "execution_count": 34,
   "metadata": {},
   "outputs": [],
   "source": [
    "X_train, X_test, y_train, y_test = train_test_split(X, y, test_size = 0.3, random_state = 1234)"
   ]
  },
  {
   "cell_type": "code",
   "execution_count": 35,
   "metadata": {},
   "outputs": [
    {
     "name": "stdout",
     "output_type": "stream",
     "text": [
      "(46790, 63)\n",
      "(20053, 63)\n"
     ]
    }
   ],
   "source": [
    "print(X_train.shape)\n",
    "print(X_test.shape)"
   ]
  },
  {
   "cell_type": "markdown",
   "metadata": {},
   "source": [
    "### Modelación"
   ]
  },
  {
   "cell_type": "markdown",
   "metadata": {},
   "source": [
    "**Random Forest**\n",
    "\n",
    "Como primera propuesta ajuste un modelo Random Forest, obteniendo los siguientes resultados:"
   ]
  },
  {
   "cell_type": "markdown",
   "metadata": {},
   "source": [
    "*Tuneo de Hyperparametros*"
   ]
  },
  {
   "cell_type": "code",
   "execution_count": 36,
   "metadata": {
    "collapsed": true
   },
   "outputs": [
    {
     "data": {
      "text/plain": [
       "RandomizedSearchCV(cv=3, error_score='raise-deprecating',\n",
       "                   estimator=RandomForestClassifier(bootstrap=True,\n",
       "                                                    class_weight=None,\n",
       "                                                    criterion='gini',\n",
       "                                                    max_depth=None,\n",
       "                                                    max_features='auto',\n",
       "                                                    max_leaf_nodes=None,\n",
       "                                                    min_impurity_decrease=0.0,\n",
       "                                                    min_impurity_split=None,\n",
       "                                                    min_samples_leaf=1,\n",
       "                                                    min_samples_split=2,\n",
       "                                                    min_weight_fraction_leaf=0.0,\n",
       "                                                    n_estimators=100, n_jobs=-1,\n",
       "                                                    oob_score=T...\n",
       "                                        'max_leaf_nodes': array([20, 21, 22, 23, 24]),\n",
       "                                        'min_impurity_decrease': [0, 0.001,\n",
       "                                                                  0.002, 0.05,\n",
       "                                                                  0.1],\n",
       "                                        'min_samples_leaf': array([ 5, 10, 15, 20]),\n",
       "                                        'min_samples_split': array([50, 60, 70, 80, 90])},\n",
       "                   pre_dispatch='2*n_jobs', random_state=None, refit='recall',\n",
       "                   return_train_score=False,\n",
       "                   scoring={'F1': 'f1', 'accuracy': 'accuracy',\n",
       "                            'precision': 'precision', 'recall': 'recall'},\n",
       "                   verbose=0)"
      ]
     },
     "execution_count": 36,
     "metadata": {},
     "output_type": "execute_result"
    }
   ],
   "source": [
    "      # ===========  Specification Hyper-parameters of model  ===========\n",
    "max_depth_vec = np.arange(8, 15, 1) \n",
    "min_samples_split_vec = np.arange(50, 95, 10)\n",
    "min_samples_leaf_vec =  np.arange(5, 25, 5)\n",
    "max_leaf_nodes_vec = np.arange(20, 25, 1)\n",
    "min_impurity_decrease_vec = [0, 0.001, 0.002, 0.05, 0.1] \n",
    "criterion_vec = ['entropy', 'gini']\n",
    "\n",
    "parametros = {'max_depth': max_depth_vec,                       # prepoda: controla la profundidad del árbol (largo máximo de las ramas)\n",
    "              'min_samples_split': min_samples_split_vec,       # prepoda: el mínimo número de registros necesarios para crear una nueva rama\n",
    "              'min_samples_leaf': min_samples_leaf_vec,         # prepoda: el mínimo número de registros en una hoja\n",
    "              'max_leaf_nodes': max_leaf_nodes_vec,             # prepoda: máximo número de nodos hojas\n",
    "              'min_impurity_decrease': min_impurity_decrease_vec, # prepoda: umbral mínimo de reducción de la impureza para aceptar la creación de una rama\n",
    "              'criterion': criterion_vec                        # el criterio de particionamiento de un conjunto de datos\n",
    "             }\n",
    "\n",
    "params_set = {\n",
    "             'n_estimators' : 100,    # Número de modelos a crear   \n",
    "             'max_features' : 'auto', # Número o % de atributos de la muestra de aprendizaje\n",
    "             'bootstrap' : True,      # Utilizar reemplazo en el muestreo de los registros de aprendizaje\n",
    "             'oob_score' : True,      # Evaluar cada modelo con los registros no utilizados en su aprendizaje\n",
    "             'n_jobs' : -1,           # Número de cores a utilizar\n",
    "             'random_state' : 1234,   # random seed para el generador aleatorio\n",
    "             'verbose' : 0            # controla la cantidad de información a reportar\n",
    "             }\n",
    "\n",
    "            # ===========  Specification metrics to compute  ===========\n",
    "scoring = {'accuracy':'accuracy',\n",
    "           'precision':'precision',\n",
    "           'recall': 'recall',\n",
    "           'F1': 'f1'}\n",
    "\n",
    "            # ===========  Specification Classifier  ===========            \n",
    "rforest = RandomForestClassifier(**params_set)\n",
    "\n",
    "            # ===========  Tuning hyper-parameters  ===========\n",
    "# Searching in the complete grid\n",
    "grid = RandomizedSearchCV(rforest,\n",
    "                         parametros,\n",
    "                         cv = 3,\n",
    "                         n_iter = 50,\n",
    "                         scoring = scoring,\n",
    "                         refit = 'recall',\n",
    "                         n_jobs = -1\n",
    "                         )\n",
    "# Searching the best model\n",
    "grid.fit(X_train, y_train)"
   ]
  },
  {
   "cell_type": "code",
   "execution_count": 38,
   "metadata": {},
   "outputs": [
    {
     "data": {
      "text/plain": [
       "{'min_samples_split': 50,\n",
       " 'min_samples_leaf': 10,\n",
       " 'min_impurity_decrease': 0.1,\n",
       " 'max_leaf_nodes': 20,\n",
       " 'max_depth': 8,\n",
       " 'criterion': 'gini'}"
      ]
     },
     "execution_count": 38,
     "metadata": {},
     "output_type": "execute_result"
    }
   ],
   "source": [
    "# Best Params of Model\n",
    "grid.best_params_"
   ]
  },
  {
   "cell_type": "code",
   "execution_count": 39,
   "metadata": {},
   "outputs": [],
   "source": [
    "best_hyper_fit = {'min_samples_split': 50,\n",
    " 'min_samples_leaf': 10,\n",
    " 'min_impurity_decrease': 0.1,\n",
    " 'max_leaf_nodes': 20,\n",
    " 'max_depth': 8,\n",
    " 'criterion': 'gini'}\n",
    "\n",
    "best_hyper = params_set.copy()\n",
    "best_hyper.update(best_hyper_fit)"
   ]
  },
  {
   "cell_type": "markdown",
   "metadata": {},
   "source": [
    "*Re ajuste con los hyperparametros obtenidos*"
   ]
  },
  {
   "cell_type": "code",
   "execution_count": 40,
   "metadata": {},
   "outputs": [
    {
     "data": {
      "text/plain": [
       "RandomForestClassifier(bootstrap=True, class_weight=None, criterion='gini',\n",
       "                       max_depth=8, max_features='auto', max_leaf_nodes=20,\n",
       "                       min_impurity_decrease=0.1, min_impurity_split=None,\n",
       "                       min_samples_leaf=10, min_samples_split=50,\n",
       "                       min_weight_fraction_leaf=0.0, n_estimators=100,\n",
       "                       n_jobs=-1, oob_score=True, random_state=1234, verbose=0,\n",
       "                       warm_start=False)"
      ]
     },
     "execution_count": 40,
     "metadata": {},
     "output_type": "execute_result"
    }
   ],
   "source": [
    "rforest = RandomForestClassifier(**best_hyper)\n",
    "rforest.fit(X_train, y_train)"
   ]
  },
  {
   "cell_type": "markdown",
   "metadata": {},
   "source": [
    "*Evaluación del modelo*"
   ]
  },
  {
   "cell_type": "code",
   "execution_count": 61,
   "metadata": {
    "scrolled": true
   },
   "outputs": [
    {
     "data": {
      "text/plain": [
       "array([[18237,  1816],\n",
       "       [    0,     0]], dtype=int64)"
      ]
     },
     "execution_count": 61,
     "metadata": {},
     "output_type": "execute_result"
    }
   ],
   "source": [
    "# Predict test dataset\n",
    "y_pred = rforest.predict(X_test)\n",
    "# Predict train dataset\n",
    "y_pred_train = rforest.predict(X_train)\n",
    "# Confusion matrix\n",
    "cm = metrics.confusion_matrix(y_pred, y_test)\n",
    "cm"
   ]
  },
  {
   "cell_type": "code",
   "execution_count": 62,
   "metadata": {},
   "outputs": [
    {
     "name": "stdout",
     "output_type": "stream",
     "text": [
      "Exactitud test:  0.909439984042288\n",
      "Kappa test:  0.0\n",
      "              precision    recall  f1-score   support\n",
      "\n",
      "           0    0.90944   1.00000   0.95257     18237\n",
      "           1    0.00000   0.00000   0.00000      1816\n",
      "\n",
      "    accuracy                        0.90944     20053\n",
      "   macro avg    0.45472   0.50000   0.47629     20053\n",
      "weighted avg    0.82708   0.90944   0.86631     20053\n",
      "\n",
      "Exactitud:  0.9089976490703142\n"
     ]
    },
    {
     "data": {
      "text/plain": [
       "-0.0004423349719737679"
      ]
     },
     "execution_count": 62,
     "metadata": {},
     "output_type": "execute_result"
    }
   ],
   "source": [
    "# Metrics: accuracy and kappa respectively for test dataset\n",
    "acc_test = metrics.accuracy_score(y_test, y_pred)\n",
    "k_test = metrics.cohen_kappa_score(y_test, y_pred)\n",
    "print(\"Exactitud test: \", acc_test)\n",
    "print(\"Kappa test: \", k_test)\n",
    "print(metrics.classification_report(y_test, y_pred, digits = 5))\n",
    "\n",
    "# Metrics: accuracy for train dataset\n",
    "acc_train = metrics.accuracy_score(y_train, y_pred_train)\n",
    "print(\"Exactitud: \", acc_train)\n",
    "\n",
    "acc_train - acc_test"
   ]
  },
  {
   "cell_type": "markdown",
   "metadata": {},
   "source": [
    "Como se observa en los resultados obtenidos, este modelo no presenta un buen ajuste, el acuraccy es del 90%, pero esta no es una buena metrica en estos casos donde hay presencia de desbalanceo. Incluso al calcular que el Kappa, obtenemos que es cero, lo que indica que este modelo es igual que el baseline (categoría mayoritaria).\n",
    "\n",
    "Por lo anterior, se podria pensar en utilizar algún algoritmo de balanceo **(lo cual me gustaria discutirlo)**, sin embargo, el modelo XGBoost también funciona bien en casos de desbalanceo, especificamente si modelamos el hyperparametro de escala, donde buscamos darle un peso más alto a nuestra categoría minoritaria."
   ]
  },
  {
   "cell_type": "markdown",
   "metadata": {},
   "source": [
    "###  XGBoost Model"
   ]
  },
  {
   "cell_type": "code",
   "execution_count": null,
   "metadata": {},
   "outputs": [],
   "source": [
    "#Grid seach on subsample and max_features\n",
    "#Choose all predictors except target & IDcols\n",
    "N_ITER  = 10\n",
    "PARAM_SCALE_POS = np.ceil(y_train.shape[0] / y_train.sum()).astype(int)\n",
    "\n",
    "scoring = {'acc': 'accuracy',\n",
    "           'recall': 'recall',\n",
    "           'neg_log_loss': 'neg_log_loss'}\n",
    "\n",
    "params_eval = {\n",
    "                'max_depth': range(1, 5, 1),\n",
    "                'min_child_weight': range(1, 6, 1),\n",
    "                'learning_rate': np.arange(0, 0.55, 0.025),\n",
    "                'colsample_bytree': np.arange(0.3, 0.7, 0.05)\n",
    "}\n",
    "\n",
    "params_set = {\n",
    "                'n_estimators': 300,\n",
    "                'subsample': 0.8,\n",
    "                #'colsample_bytree': 0.8,\n",
    "                'nthread': 4,\n",
    "                'objective': 'binary:logistic',\n",
    "                'scale_pos_weight': PARAM_SCALE_POS,\n",
    "                'n_jobs': 10,\n",
    "                'seed': None\n",
    "}"
   ]
  },
  {
   "cell_type": "code",
   "execution_count": 45,
   "metadata": {},
   "outputs": [
    {
     "name": "stdout",
     "output_type": "stream",
     "text": [
      "0:01:04.740418\n"
     ]
    }
   ],
   "source": [
    "xgb_model1 = xgb.XGBClassifier(**params_set)\n",
    "gsearch1 = RandomizedSearchCV(\n",
    "                        estimator           = xgb_model1,\n",
    "                        param_distributions = params_eval,\n",
    "                        n_iter  = N_ITER,\n",
    "                        scoring = scoring,\n",
    "                        refit   = 'neg_log_loss',\n",
    "                        n_jobs  = -1,\n",
    "                        cv      = 3,\n",
    "                        verbose = 0)\n",
    "\n",
    "time1 = datetime.now()\n",
    "gsearch1.fit(X_train, y_train)\n",
    "time2 = datetime.now()\n",
    "\n",
    "print(time2 - time1)"
   ]
  },
  {
   "cell_type": "code",
   "execution_count": 46,
   "metadata": {},
   "outputs": [
    {
     "data": {
      "text/plain": [
       "{'min_child_weight': 2,\n",
       " 'max_depth': 3,\n",
       " 'learning_rate': 0.42500000000000004,\n",
       " 'colsample_bytree': 0.6499999999999999}"
      ]
     },
     "execution_count": 46,
     "metadata": {},
     "output_type": "execute_result"
    }
   ],
   "source": [
    "gsearch1.best_params_"
   ]
  },
  {
   "cell_type": "code",
   "execution_count": 47,
   "metadata": {},
   "outputs": [],
   "source": [
    "best_hyper_fit = {'min_child_weight': 2,\n",
    " 'max_depth': 3,\n",
    " 'learning_rate': 0.42500000000000004,\n",
    " 'colsample_bytree': 0.6499999999999999}"
   ]
  },
  {
   "cell_type": "code",
   "execution_count": 48,
   "metadata": {},
   "outputs": [
    {
     "data": {
      "text/plain": [
       "XGBClassifier(base_score=0.5, booster='gbtree', colsample_bylevel=1,\n",
       "              colsample_bynode=1, colsample_bytree=0.6499999999999999, gamma=0,\n",
       "              gpu_id=-1, importance_type='gain', interaction_constraints='',\n",
       "              learning_rate=0.42500000000000004, max_delta_step=0, max_depth=3,\n",
       "              min_child_weight=2, missing=nan, monotone_constraints='()',\n",
       "              n_estimators=300, n_jobs=10, nthread=4, num_parallel_tree=1,\n",
       "              objective='binary:logistic', random_state=0, reg_alpha=0,\n",
       "              reg_lambda=1, scale_pos_weight=11, seed=0, subsample=0.8,\n",
       "              tree_method='exact', validate_parameters=1, verbosity=None)"
      ]
     },
     "execution_count": 48,
     "metadata": {},
     "output_type": "execute_result"
    }
   ],
   "source": [
    "best_hyperparams = params_set.copy()\n",
    "best_hyperparams.update(best_hyper_fit)\n",
    "\n",
    "xgb_model1 = xgb.XGBClassifier(**best_hyperparams)\n",
    "\n",
    "# Fit model\n",
    "xgb_model1.fit(X_train, y_train, eval_metric = ['aucpr'])"
   ]
  },
  {
   "cell_type": "code",
   "execution_count": 64,
   "metadata": {},
   "outputs": [
    {
     "data": {
      "text/plain": [
       "array([[11576,   845],\n",
       "       [ 6661,   971]], dtype=int64)"
      ]
     },
     "execution_count": 64,
     "metadata": {},
     "output_type": "execute_result"
    }
   ],
   "source": [
    "# Predict test dataset\n",
    "y_pred = xgb_model1.predict(X_test)\n",
    "# Predict train dataset\n",
    "y_pred_train = xgb_model1.predict(X_train)\n",
    "# Confusion matrix\n",
    "cm = metrics.confusion_matrix(y_pred, y_test)\n",
    "cm"
   ]
  },
  {
   "cell_type": "code",
   "execution_count": 68,
   "metadata": {},
   "outputs": [
    {
     "name": "stdout",
     "output_type": "stream",
     "text": [
      "Exactitud test:  0.625691916421483\n",
      "Kappa test:  0.0693916804932716\n",
      "              precision    recall  f1-score   support\n",
      "\n",
      "           0    0.93197   0.63475   0.75517     18237\n",
      "           1    0.12723   0.53469   0.20555      1816\n",
      "\n",
      "    accuracy                        0.62569     20053\n",
      "   macro avg    0.52960   0.58472   0.48036     20053\n",
      "weighted avg    0.85909   0.62569   0.70540     20053\n",
      "\n",
      "Exactitud:  0.66896772814704\n"
     ]
    },
    {
     "data": {
      "text/plain": [
       "0.043275811725556945"
      ]
     },
     "execution_count": 68,
     "metadata": {},
     "output_type": "execute_result"
    }
   ],
   "source": [
    "# Metrics: accuracy and kappa respectively for test dataset\n",
    "acc_test = metrics.accuracy_score(y_test, y_pred)\n",
    "k_test = metrics.cohen_kappa_score(y_test, y_pred)\n",
    "print(\"Exactitud test: \", acc_test)\n",
    "print(\"Kappa test: \", k_test)\n",
    "print(metrics.classification_report(y_test, y_pred, digits = 5))\n",
    "\n",
    "# Metrics: accuracy for train dataset\n",
    "acc_train = metrics.accuracy_score(y_train, y_pred_train)\n",
    "print(\"Exactitud: \", acc_train)\n",
    "\n",
    "acc_train - acc_test"
   ]
  },
  {
   "cell_type": "markdown",
   "metadata": {},
   "source": [
    "Este modelo presenta un mejor desempeño, pero para interpretar las metricas ajustemos un modelo final en el que seleccionemos las variables más importantes."
   ]
  },
  {
   "cell_type": "code",
   "execution_count": 50,
   "metadata": {},
   "outputs": [
    {
     "data": {
      "image/png": "[encoded data removed]",
      "text/plain": [
       "<Figure size 1152x576 with 1 Axes>"
      ]
     },
     "metadata": {
      "needs_background": "light"
     },
     "output_type": "display_data"
    }
   ],
   "source": [
    "# Importances variables\n",
    "importances_features1 = xgb_model1.get_booster().get_score(importance_type = \"gain\")\n",
    "importances_features1 = pd.DataFrame.from_dict(importances_features1, orient = 'index')\n",
    "\n",
    "importances_features1.reset_index(inplace = True)\n",
    "importances_features1.columns = ['variable', 'value']\n",
    "\n",
    "importances_features1 = importances_features1.sort_values('value', ascending = True)\n",
    "\n",
    "plt.figure(figsize = (16, 8))\n",
    "plt.title(\"Features importances\")\n",
    "plt.barh(range(importances_features1.shape[0]), importances_features1['value'])\n",
    "plt.yticks(range(importances_features1.shape[0]), importances_features1['variable'], fontsize = 7)\n",
    "plt.show()"
   ]
  },
  {
   "cell_type": "code",
   "execution_count": 83,
   "metadata": {},
   "outputs": [],
   "source": [
    "vec_var = importances_features1.loc[importances_features1['value'] >= 20, 'variable']\n",
    "vec_var = list(vec_var)"
   ]
  },
  {
   "cell_type": "code",
   "execution_count": 115,
   "metadata": {},
   "outputs": [
    {
     "name": "stdout",
     "output_type": "stream",
     "text": [
      "21\n"
     ]
    }
   ],
   "source": [
    "print(len(vec_var))"
   ]
  },
  {
   "cell_type": "markdown",
   "metadata": {},
   "source": [
    "### Ajuste con las variables seleccionadas"
   ]
  },
  {
   "cell_type": "code",
   "execution_count": 104,
   "metadata": {},
   "outputs": [],
   "source": [
    "X_train_final = X_train[vec_var].copy()\n",
    "X_test_final = X_test[vec_var].copy()"
   ]
  },
  {
   "cell_type": "code",
   "execution_count": 89,
   "metadata": {},
   "outputs": [
    {
     "name": "stdout",
     "output_type": "stream",
     "text": [
      "0:00:52.975003\n"
     ]
    }
   ],
   "source": [
    "xgb_model2 = xgb.XGBClassifier(**params_set)\n",
    "gsearch2 = RandomizedSearchCV(\n",
    "                        estimator           = xgb_model2,\n",
    "                        param_distributions = params_eval,\n",
    "                        n_iter  = N_ITER,\n",
    "                        scoring = scoring,\n",
    "                        refit   = 'neg_log_loss',\n",
    "                        n_jobs  = -1,\n",
    "                        cv      = 3,\n",
    "                        verbose = 0)\n",
    "\n",
    "time1 = datetime.now()\n",
    "gsearch2.fit(X_train_final, y_train)\n",
    "time2 = datetime.now()\n",
    "\n",
    "print(time2 - time1)"
   ]
  },
  {
   "cell_type": "code",
   "execution_count": 90,
   "metadata": {},
   "outputs": [
    {
     "data": {
      "text/plain": [
       "{'min_child_weight': 5,\n",
       " 'max_depth': 4,\n",
       " 'learning_rate': 0.2,\n",
       " 'colsample_bytree': 0.5999999999999999}"
      ]
     },
     "execution_count": 90,
     "metadata": {},
     "output_type": "execute_result"
    }
   ],
   "source": [
    "gsearch2.best_params_"
   ]
  },
  {
   "cell_type": "code",
   "execution_count": 91,
   "metadata": {},
   "outputs": [],
   "source": [
    "best_hyper_fit = {'min_child_weight': 5,\n",
    " 'max_depth': 4,\n",
    " 'learning_rate': 0.2,\n",
    " 'colsample_bytree': 0.5999999999999999}"
   ]
  },
  {
   "cell_type": "code",
   "execution_count": 107,
   "metadata": {},
   "outputs": [
    {
     "data": {
      "text/plain": [
       "XGBClassifier(base_score=0.5, booster='gbtree', colsample_bylevel=1,\n",
       "              colsample_bynode=1, colsample_bytree=0.5999999999999999, gamma=0,\n",
       "              gpu_id=-1, importance_type='gain', interaction_constraints='',\n",
       "              learning_rate=0.2, max_delta_step=0, max_depth=4,\n",
       "              min_child_weight=5, missing=nan, monotone_constraints='()',\n",
       "              n_estimators=300, n_jobs=10, nthread=4, num_parallel_tree=1,\n",
       "              objective='binary:logistic', random_state=0, reg_alpha=0,\n",
       "              reg_lambda=1, scale_pos_weight=11, seed=0, subsample=0.8,\n",
       "              tree_method='exact', validate_parameters=1, verbosity=None)"
      ]
     },
     "execution_count": 107,
     "metadata": {},
     "output_type": "execute_result"
    }
   ],
   "source": [
    "best_hyperparams = params_set.copy()\n",
    "best_hyperparams.update(best_hyper_fit)\n",
    "\n",
    "xgb_model2 = xgb.XGBClassifier(**best_hyperparams)\n",
    "\n",
    "# Fit model\n",
    "xgb_model2.fit(X_train_final, y_train, eval_metric = ['aucpr'])"
   ]
  },
  {
   "cell_type": "code",
   "execution_count": 108,
   "metadata": {},
   "outputs": [],
   "source": [
    "# Predict test dataset\n",
    "y_pred = xgb_model2.predict(X_test_final)\n",
    "y_pred_proba = xgb_model2.predict_proba(X_test_final)[:,1]"
   ]
  },
  {
   "cell_type": "code",
   "execution_count": 109,
   "metadata": {},
   "outputs": [
    {
     "name": "stdout",
     "output_type": "stream",
     "text": [
      "Matriz de confusion: \n",
      " [[11152   827]\n",
      " [ 7085   989]]\n"
     ]
    }
   ],
   "source": [
    "# Predict train dataset\n",
    "y_pred_train = xgb_model2.predict(X_train_final)\n",
    "# Confusion matrix\n",
    "cm = metrics.confusion_matrix(y_pred, y_test)\n",
    "print('Matriz de confusion: \\n', cm)"
   ]
  },
  {
   "cell_type": "code",
   "execution_count": 110,
   "metadata": {},
   "outputs": [
    {
     "name": "stdout",
     "output_type": "stream",
     "text": [
      "Accuracy test:  0.60544556924151\n",
      "Accuracy train:  0.6330626202179953\n",
      "Diferencia entre el accuracy del train y del test: 0.027617050976485258\n",
      "\n",
      "Kappa test:  0.06118403898257585\n",
      "\n",
      "AUC test: 0.6113849368049029\n",
      "\n",
      "              precision    recall  f1-score   support\n",
      "\n",
      "           0    0.93096   0.61150   0.73815     18237\n",
      "           1    0.12249   0.54460   0.20000      1816\n",
      "\n",
      "    accuracy                        0.60545     20053\n",
      "   macro avg    0.52673   0.57805   0.46908     20053\n",
      "weighted avg    0.85775   0.60545   0.68942     20053\n",
      "\n"
     ]
    }
   ],
   "source": [
    "# Metrics: accuracy and kappa respectively for test dataset\n",
    "acc_test = metrics.accuracy_score(y_test, y_pred)\n",
    "k_test = metrics.cohen_kappa_score(y_test, y_pred)\n",
    "print(\"Accuracy test: \", acc_test)\n",
    "# Metrics: accuracy for train dataset\n",
    "acc_train = metrics.accuracy_score(y_train, y_pred_train)\n",
    "print(\"Accuracy train: \", acc_train)\n",
    "print('Diferencia entre el accuracy del train y del test:', acc_train - acc_test)\n",
    "print('')\n",
    "print(\"Kappa test: \", k_test)\n",
    "print('')\n",
    "auc_test = roc_auc_score(y_test, y_pred_proba)\n",
    "print('AUC test:', auc_test)\n",
    "print('')\n",
    "print(metrics.classification_report(y_test, y_pred, digits = 5))"
   ]
  },
  {
   "cell_type": "markdown",
   "metadata": {},
   "source": [
    "Finalmente, obtenemos un modelo mas parsimonioso con 21 variables, vemos que las metricas se mantienen con respecto al anterior modelo, lo cual es bueno.\n",
    "\n",
    "Ahora bien, se observa que obtenemos un kappa de 0.061, lo que nos indica que este modelo es ligeramente superior al baseline (predecir la categoría mayoritaria). También se observa que no se presenta sobreajuste, pues la diferencia entre el accuracy del conjunto de entrenamiento y el conjunto test son muy similares (aqui podriamos profundizar un poco más calculando de las curvas de aprendizaje, pero esta diferencia entre accuracys es una manera sencilla y rápida de ver si hay evidencia de sobreajuste).\n",
    "\n",
    "Por otro lado, la capacidad de este modelo de predecir bien a las personas que serán readmitidas tempranamente es del 54%, sin embargo, de todas las personas que predicen que serán readmitidas en menos de 30 días, el 12% realmente lo es, por lo que en esta situación se debe validar con la persona experta en salud, cual de estas dos métricas podría ser más importante, pues en todo el ejercicio decidí optimizar con base en el recall, pensando en la importancia de lograr predecir a todos aquellos que realmente son readmitidos en menos de 30 días."
   ]
  },
  {
   "cell_type": "markdown",
   "metadata": {},
   "source": [
    "### Interpretación del modelo"
   ]
  },
  {
   "cell_type": "markdown",
   "metadata": {},
   "source": [
    "Ahora bien, con el fin de aproximarnos al efecto que tiene cada variable sobre la predicción de la readmisión temprana, se presenta el gráfico de Shap values, para identificar los insights más importantes."
   ]
  },
  {
   "cell_type": "code",
   "execution_count": 111,
   "metadata": {},
   "outputs": [],
   "source": [
    "shap_values = shap.TreeExplainer(xgb_model2).shap_values(X_test_final)"
   ]
  },
  {
   "cell_type": "code",
   "execution_count": 113,
   "metadata": {},
   "outputs": [
    {
     "data": {
      "image/png": "[encoded data removed]",
      "text/plain": [
       "<Figure size 576x684 with 2 Axes>"
      ]
     },
     "metadata": {
      "needs_background": "light"
     },
     "output_type": "display_data"
    }
   ],
   "source": [
    "shap.summary_plot(shap_values, X_test_final)"
   ]
  },
  {
   "cell_type": "markdown",
   "metadata": {},
   "source": [
    "Interpretemos las variables:\n",
    "\n",
    "```number_inpatient_cat_0```: Esta es una variable binaria, que es 1 cuando el paciente tiene visitas hospitalarias en el año anterior y es 0 en caso que tenga al menos una visita. Observemos que el hecho que un paciente tenga al menos una visita hospitalaria en el año anterior incrementa la probabilidad de ser readmitido en menos de 30 días, seguramente son personas que ya han tenido situaciones de salud complejas en periodos anteriores.\n",
    "\n",
    "```discharge_disposition_id_1```: Las personas que no son dadas de alta para la casa, incrementa la probabilidad de que sea readmitida en menos de 30 días, por el contrario cuando observamos el efecto de ```discharge_disposition_id_2```, se evidencia que aquellos pacientes que son trasladados a otros centros de atención hospitalaria, tienen mayor probabilidad de ser readmitidos en menos de 30 días."
   ]
  },
  {
   "cell_type": "code",
   "execution_count": null,
   "metadata": {},
   "outputs": [],
   "source": []
  }
 ],
 "metadata": {
  "kernelspec": {
   "display_name": "Python 3",
   "language": "python",
   "name": "python3"
  },
  "language_info": {
   "codemirror_mode": {
    "name": "ipython",
    "version": 3
   },
   "file_extension": ".py",
   "mimetype": "text/x-python",
   "name": "python",
   "nbconvert_exporter": "python",
   "pygments_lexer": "ipython3",
   "version": "3.7.3"
  }
 },
 "nbformat": 4,
 "nbformat_minor": 2
}
